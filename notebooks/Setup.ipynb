{
  "cells": [
    {
      "cell_type": "markdown",
      "source": [
        "## Introduction to the COVID-19 Open Research Dataset\n",
        "\n",
        "The COVID-19 Open Research Dataset (CORD-19) is a collection of over 50,000 scholarly articles - including over 40,000 with full text - about COVID-19, SARS-CoV-2, and related coronaviruses. This dataset has been made freely available with the goal to aid research communities combat the COVID-19 pandemic. It has been made available by the Allen Institute for AI in partnership with leading research groups to prepare and distribute the COVID-19 Open Research Dataset (CORD-19), in response to the COVID-19 pandemic.\n",
        "\n",
        "During this lab you will learn how to process and analyze a subset of the articles present in the dataset, group them together into a series of clusters, and use Automated ML to train a machine learning model capable of classifying new articles as they are published."
      ],
      "metadata": {}
    },
    {
      "cell_type": "markdown",
      "source": [
        "### Setup\n",
        "\n",
        "We will start off by installing a few packages, such as `nltk` for text processing and `wordcloud`, `seaborn`, and `yellowbrick` for various visualizations."
      ],
      "metadata": {}
    },
    {
      "cell_type": "code",
      "source": [
        "!pip install nltk\n",
        "!pip install wordcloud\n",
        "!pip install seaborn\n",
        "!pip install yellowbrick"
      ],
      "outputs": [
        {
          "output_type": "stream",
          "name": "stdout",
          "text": "Requirement already satisfied: nltk in /anaconda/envs/azureml_py38/lib/python3.8/site-packages (3.8.1)\nRequirement already satisfied: tqdm in /anaconda/envs/azureml_py38/lib/python3.8/site-packages (from nltk) (4.64.1)\nRequirement already satisfied: joblib in /anaconda/envs/azureml_py38/lib/python3.8/site-packages (from nltk) (1.2.0)\nRequirement already satisfied: click in /anaconda/envs/azureml_py38/lib/python3.8/site-packages (from nltk) (8.1.3)\nRequirement already satisfied: regex>=2021.8.3 in /anaconda/envs/azureml_py38/lib/python3.8/site-packages (from nltk) (2022.10.31)\nRequirement already satisfied: wordcloud in /anaconda/envs/azureml_py38/lib/python3.8/site-packages (1.8.2.2)\nRequirement already satisfied: matplotlib in /anaconda/envs/azureml_py38/lib/python3.8/site-packages (from wordcloud) (3.2.1)\nRequirement already satisfied: pillow in /anaconda/envs/azureml_py38/lib/python3.8/site-packages (from wordcloud) (9.2.0)\nRequirement already satisfied: numpy>=1.6.1 in /anaconda/envs/azureml_py38/lib/python3.8/site-packages (from wordcloud) (1.21.6)\nRequirement already satisfied: pyparsing!=2.0.4,!=2.1.2,!=2.1.6,>=2.0.1 in /anaconda/envs/azureml_py38/lib/python3.8/site-packages (from matplotlib->wordcloud) (3.0.9)\nRequirement already satisfied: python-dateutil>=2.1 in /anaconda/envs/azureml_py38/lib/python3.8/site-packages (from matplotlib->wordcloud) (2.8.2)\nRequirement already satisfied: cycler>=0.10 in /anaconda/envs/azureml_py38/lib/python3.8/site-packages (from matplotlib->wordcloud) (0.11.0)\nRequirement already satisfied: kiwisolver>=1.0.1 in /anaconda/envs/azureml_py38/lib/python3.8/site-packages (from matplotlib->wordcloud) (1.4.4)\nRequirement already satisfied: six>=1.5 in /anaconda/envs/azureml_py38/lib/python3.8/site-packages (from python-dateutil>=2.1->matplotlib->wordcloud) (1.16.0)\nRequirement already satisfied: seaborn in /anaconda/envs/azureml_py38/lib/python3.8/site-packages (0.12.2)\nRequirement already satisfied: matplotlib!=3.6.1,>=3.1 in /anaconda/envs/azureml_py38/lib/python3.8/site-packages (from seaborn) (3.2.1)\nRequirement already satisfied: pandas>=0.25 in /anaconda/envs/azureml_py38/lib/python3.8/site-packages (from seaborn) (1.1.5)\nRequirement already satisfied: numpy!=1.24.0,>=1.17 in /anaconda/envs/azureml_py38/lib/python3.8/site-packages (from seaborn) (1.21.6)\nRequirement already satisfied: cycler>=0.10 in /anaconda/envs/azureml_py38/lib/python3.8/site-packages (from matplotlib!=3.6.1,>=3.1->seaborn) (0.11.0)\nRequirement already satisfied: pyparsing!=2.0.4,!=2.1.2,!=2.1.6,>=2.0.1 in /anaconda/envs/azureml_py38/lib/python3.8/site-packages (from matplotlib!=3.6.1,>=3.1->seaborn) (3.0.9)\nRequirement already satisfied: python-dateutil>=2.1 in /anaconda/envs/azureml_py38/lib/python3.8/site-packages (from matplotlib!=3.6.1,>=3.1->seaborn) (2.8.2)\nRequirement already satisfied: kiwisolver>=1.0.1 in /anaconda/envs/azureml_py38/lib/python3.8/site-packages (from matplotlib!=3.6.1,>=3.1->seaborn) (1.4.4)\nRequirement already satisfied: pytz>=2017.2 in /anaconda/envs/azureml_py38/lib/python3.8/site-packages (from pandas>=0.25->seaborn) (2022.5)\nRequirement already satisfied: six>=1.5 in /anaconda/envs/azureml_py38/lib/python3.8/site-packages (from python-dateutil>=2.1->matplotlib!=3.6.1,>=3.1->seaborn) (1.16.0)\nRequirement already satisfied: yellowbrick in /anaconda/envs/azureml_py38/lib/python3.8/site-packages (1.5)\nRequirement already satisfied: numpy>=1.16.0 in /anaconda/envs/azureml_py38/lib/python3.8/site-packages (from yellowbrick) (1.21.6)\nRequirement already satisfied: scipy>=1.0.0 in /anaconda/envs/azureml_py38/lib/python3.8/site-packages (from yellowbrick) (1.5.3)\nRequirement already satisfied: cycler>=0.10.0 in /anaconda/envs/azureml_py38/lib/python3.8/site-packages (from yellowbrick) (0.11.0)\nRequirement already satisfied: scikit-learn>=1.0.0 in /anaconda/envs/azureml_py38/lib/python3.8/site-packages (from yellowbrick) (1.2.1)\nRequirement already satisfied: matplotlib!=3.0.0,>=2.0.2 in /anaconda/envs/azureml_py38/lib/python3.8/site-packages (from yellowbrick) (3.2.1)\nRequirement already satisfied: threadpoolctl>=2.0.0 in /anaconda/envs/azureml_py38/lib/python3.8/site-packages (from scikit-learn>=1.0.0->yellowbrick) (2.2.0)\nRequirement already satisfied: joblib>=1.1.1 in /anaconda/envs/azureml_py38/lib/python3.8/site-packages (from scikit-learn>=1.0.0->yellowbrick) (1.2.0)\nRequirement already satisfied: pyparsing!=2.0.4,!=2.1.2,!=2.1.6,>=2.0.1 in /anaconda/envs/azureml_py38/lib/python3.8/site-packages (from matplotlib!=3.0.0,>=2.0.2->yellowbrick) (3.0.9)\nRequirement already satisfied: kiwisolver>=1.0.1 in /anaconda/envs/azureml_py38/lib/python3.8/site-packages (from matplotlib!=3.0.0,>=2.0.2->yellowbrick) (1.4.4)\nRequirement already satisfied: python-dateutil>=2.1 in /anaconda/envs/azureml_py38/lib/python3.8/site-packages (from matplotlib!=3.0.0,>=2.0.2->yellowbrick) (2.8.2)\nRequirement already satisfied: six>=1.5 in /anaconda/envs/azureml_py38/lib/python3.8/site-packages (from python-dateutil>=2.1->matplotlib!=3.0.0,>=2.0.2->yellowbrick) (1.16.0)\n"
        }
      ],
      "execution_count": 1,
      "metadata": {}
    },
    {
      "cell_type": "markdown",
      "source": [
        "We'll first download stopwords and the Punkt tokenizer models present in the `nltk` package, in order to be able to process the articles"
      ],
      "metadata": {}
    },
    {
      "cell_type": "code",
      "source": [
        "import nltk\n",
        "\n",
        "nltk.download('punkt')\n",
        "nltk.download('stopwords')"
      ],
      "outputs": [
        {
          "output_type": "stream",
          "name": "stderr",
          "text": "[nltk_data] Downloading package punkt to /home/azureuser/nltk_data...\n[nltk_data]   Package punkt is already up-to-date!\n[nltk_data] Downloading package stopwords to\n[nltk_data]     /home/azureuser/nltk_data...\n[nltk_data]   Package stopwords is already up-to-date!\n"
        },
        {
          "output_type": "execute_result",
          "execution_count": 2,
          "data": {
            "text/plain": "True"
          },
          "metadata": {}
        }
      ],
      "execution_count": 2,
      "metadata": {
        "gather": {
          "logged": 1676793367486
        }
      }
    },
    {
      "cell_type": "markdown",
      "source": [
        "We'll also import the rest of the modules needed in this notebook, and do a quick sanity-check on the Azure ML SDK version"
      ],
      "metadata": {}
    },
    {
      "cell_type": "code",
      "source": [
        "import os\n",
        "import json\n",
        "from string import punctuation\n",
        "\n",
        "import pandas as pd\n",
        "import seaborn as sns\n",
        "sns.set_palette('Set2')\n",
        "from wordcloud import WordCloud\n",
        "import matplotlib.pyplot as plt\n",
        "from yellowbrick.cluster import KElbowVisualizer\n",
        "from gensim.models.doc2vec import Doc2Vec, TaggedDocument\n",
        "from sklearn.manifold import TSNE\n",
        "from sklearn.decomposition import PCA\n",
        "from sklearn.model_selection import train_test_split\n",
        "from sklearn.cluster import KMeans, SpectralClustering, DBSCAN, Birch, AgglomerativeClustering\n",
        "from sklearn.metrics import roc_auc_score\n",
        "from nltk import word_tokenize, sent_tokenize\n",
        "from nltk.stem import SnowballStemmer, PorterStemmer\n",
        "\n",
        "from azureml.core import Workspace, Datastore, Dataset, VERSION\n",
        "\n",
        "import azureml.core\n",
        "from azureml.core import Dataset, Workspace, Experiment\n",
        "from azureml.core.compute import ComputeTarget, AmlCompute\n",
        "from azureml.train.automl import AutoMLConfig\n",
        "from azureml.train.automl.run import AutoMLRun\n",
        "from azureml.widgets import RunDetails\n",
        "from azureml.automl.core.featurization.featurizationconfig import FeaturizationConfig\n",
        "\n",
        "print(\"Azure ML SDK Version: \", VERSION)"
      ],
      "outputs": [
        {
          "output_type": "stream",
          "name": "stdout",
          "text": "Azure ML SDK Version:  1.48.0\n"
        }
      ],
      "execution_count": 3,
      "metadata": {
        "gather": {
          "logged": 1676793371262
        },
        "nteract": {
          "transient": {
            "deleting": false
          }
        }
      }
    },
    {
      "cell_type": "markdown",
      "source": [
        "## Load the Covid-19 data\n",
        "\n",
        "CORD-19 has been uploaded as an Azure Open Dataset, we will connect to it and use it's API to download the dataset locally."
      ],
      "metadata": {}
    },
    {
      "cell_type": "code",
      "source": [
        "covid_dirname = 'opendata'\n",
        "\n",
        "cord19_dataset = Dataset.File.from_files('https://stgai2023.blob.core.windows.net/' + covid_dirname)\n",
        "mount = cord19_dataset.mount()\n",
        "\n",
        "covid_dirpath = os.path.join(mount.mount_point, covid_dirname)"
      ],
      "outputs": [
        {
          "output_type": "stream",
          "name": "stdout",
          "text": "Not mounting as a volume: No datastore info was found, volume mount would not be attempted.. \nFalling back to dataflow mount.\n"
        }
      ],
      "execution_count": 4,
      "metadata": {
        "gather": {
          "logged": 1676793381332
        }
      }
    },
    {
      "cell_type": "markdown",
      "source": [
        "Display a sample of the dataset (top 5 rows)."
      ],
      "metadata": {}
    },
    {
      "cell_type": "code",
      "source": [
        "mount.start()\n",
        "\n",
        "# Load metadata.csv, as it contains a list of all the articles and their corresponding titles/authors/contents.\n",
        "metadata_filename = os.path.join(covid_dirpath, 'metadata.csv')\n",
        "\n",
        "metadata = pd.read_csv(metadata_filename)"
      ],
      "outputs": [
        {
          "output_type": "stream",
          "name": "stderr",
          "text": "/anaconda/envs/azureml_py38/lib/python3.8/site-packages/IPython/core/interactiveshell.py:3194: DtypeWarning: Columns (1,4,5,6,13,14,15,16) have mixed types.Specify dtype option on import or set low_memory=False.\n  has_raised = await self.run_ast_nodes(code_ast.body, cell_name,\n"
        }
      ],
      "execution_count": 5,
      "metadata": {
        "gather": {
          "logged": 1676793413126
        },
        "nteract": {
          "transient": {
            "deleting": false
          }
        }
      }
    },
    {
      "cell_type": "markdown",
      "source": [
        "Some of the articles do not have any associated documents, so we will filter those out."
      ],
      "metadata": {}
    },
    {
      "cell_type": "code",
      "source": [
        "metadata_with_docs = metadata[metadata['pdf_json_files'].isna() == False]\n",
        "\n",
        "print(f'Dataset contains {metadata.shape[0]} entries, out of which {metadata_with_docs.shape[0]} have associated json documents')"
      ],
      "outputs": [
        {
          "output_type": "stream",
          "name": "stdout",
          "text": "Dataset contains 1056660 entries, out of which 373766 have associated json documents\n"
        }
      ],
      "execution_count": 6,
      "metadata": {
        "nteract": {
          "transient": {
            "deleting": false
          }
        },
        "gather": {
          "logged": 1676793413600
        }
      }
    },
    {
      "cell_type": "markdown",
      "source": [
        "Display the percentage of items in the dataset that have associated JSON documents (research papers that have extra metadata associated with them)."
      ],
      "metadata": {}
    },
    {
      "cell_type": "code",
      "source": [
        "# Change the document index in order to preview a different article\n",
        "DOCUMENT_INDEX = 0 \n",
        "example_entry = metadata_with_docs.iloc[DOCUMENT_INDEX]\n",
        "\n",
        "filepath = os.path.join(covid_dirpath, example_entry['pdf_json_files'])\n",
        "print(f'Document local filepath: {filepath}')"
      ],
      "outputs": [
        {
          "output_type": "stream",
          "name": "stdout",
          "text": "Document local filepath: /tmp/tmpyzqwk2fb/opendata/document_parses/pdf_json/d1aafb70c066a2068b02786f8929fd9c900897fb.json\n"
        }
      ],
      "execution_count": 7,
      "metadata": {
        "nteract": {
          "transient": {
            "deleting": false
          }
        },
        "gather": {
          "logged": 1676793413942
        }
      }
    },
    {
      "cell_type": "markdown",
      "source": [
        "Next, we will display the list of elements that are available for the selected document."
      ],
      "metadata": {}
    },
    {
      "cell_type": "code",
      "source": [
        "try:\n",
        "    with open(filepath, 'r') as f:\n",
        "        data = json.load(f)\n",
        "        \n",
        "except FileNotFoundError as e:\n",
        "    # in case the mount context has been closed\n",
        "    mount.start()\n",
        "    with open(filepath, 'r') as f:\n",
        "        data = json.load(f)\n",
        "        \n",
        "print(f'Data elements: { \", \".join(data.keys())}' )"
      ],
      "outputs": [
        {
          "output_type": "stream",
          "name": "stdout",
          "text": "Data elements: paper_id, metadata, abstract, body_text, bib_entries, ref_entries, back_matter\n"
        }
      ],
      "execution_count": 8,
      "metadata": {
        "nteract": {
          "transient": {
            "deleting": false
          }
        },
        "gather": {
          "logged": 1676793415974
        }
      }
    },
    {
      "cell_type": "markdown",
      "source": [
        "View the full text version of the document."
      ],
      "metadata": {}
    },
    {
      "cell_type": "code",
      "source": [
        "stop_tokens = nltk.corpus.stopwords.words('english') + list(punctuation) + ['et', 'al.']"
      ],
      "outputs": [],
      "execution_count": 9,
      "metadata": {
        "gather": {
          "logged": 1676793495625
        }
      }
    },
    {
      "cell_type": "code",
      "source": [
        "class Reader:\n",
        "    \"\"\"Class used to read the files associated with an article\"\"\"\n",
        "    \n",
        "    def __init__(self):\n",
        "        self.stemmer = SnowballStemmer('english')\n",
        "    \n",
        "    def read_file_to_json(self, filepath):\n",
        "        try:\n",
        "            with open(filepath, 'r') as f:\n",
        "                data = json.load(f)\n",
        "        except FileNotFoundError as e:\n",
        "            mount.start()\n",
        "            with open(filepath, 'r') as f:\n",
        "                data = json.load(f)\n",
        "                \n",
        "        return data\n",
        "    \n",
        "    def parse_document(self, document_index):\n",
        "        document = metadata_with_docs.iloc[document_index]\n",
        "        \n",
        "        # One article can have multiple associated documents\n",
        "        words = []\n",
        "        for filename in document['pdf_json_files'].split('; '):\n",
        "            filepath = '{0}/{1}'.format(covid_dirpath, filename)\n",
        "            data = self.read_file_to_json(filepath)\n",
        "\n",
        "            # Split each paragraph into multiple sentences first, in order to improve the performance of the word tokenizer\n",
        "            text = data['body_text']\n",
        "            for paragraph in text:\n",
        "                p_sentences = sent_tokenize(paragraph['text'])\n",
        "\n",
        "                # Split each sentence into words, while making sure to remove the stopwords and stem the words\n",
        "                for p_sentence in p_sentences:\n",
        "                    sentence = [ self.stemmer.stem(word) for word in word_tokenize(p_sentence) if word.isalpha() and word.lower() not in stop_tokens ]\n",
        "                    words.extend(sentence)\n",
        "    \n",
        "        return (words, document['cord_uid'])\n",
        "        \n",
        "\n",
        "class Corpus:\n",
        "    \"\"\"An iterator that reads all sentences from the first N documents\"\"\"\n",
        "    \n",
        "    def __init__(self, n_documents):\n",
        "        self.n_documents = n_documents\n",
        "        self.stemmer = SnowballStemmer('english')\n",
        "        self.reader = Reader()\n",
        "        \n",
        "    def __iter__(self):\n",
        "         for document_index in range(0, self.n_documents):   \n",
        "            words, document_id = self.reader.parse_document(document_index)\n",
        "            yield TaggedDocument(words, document_id)\n",
        "            \n",
        "    def plain_iter(self):\n",
        "        for document_index in range(0, self.n_documents):  \n",
        "            words, document_id = self.reader.parse_document(document_index)\n",
        "            yield (words, document_id)"
      ],
      "outputs": [],
      "execution_count": 10,
      "metadata": {
        "gather": {
          "logged": 1676793499553
        }
      }
    },
    {
      "cell_type": "markdown",
      "source": [
        "## Encoding documents as vectors\n",
        "\n",
        "In this lab, we're using a subset of 500 articles to train a Machine Learning model that encodes text documents into numerical vectors (a document embedding model). \n",
        "\n",
        "Training a document embedding model takes a significant amount of time, and for this reason we already provide a trained model. We also provide the code below in case you want to get more details about the process. Running the next two cells will result in loading the already existing model."
      ],
      "metadata": {}
    },
    {
      "cell_type": "code",
      "source": [
        "N_DOCUMENTS = 500"
      ],
      "outputs": [],
      "execution_count": 11,
      "metadata": {
        "gather": {
          "logged": 1676793502816
        }
      }
    },
    {
      "cell_type": "code",
      "source": [
        "%%time\n",
        "\n",
        "model_filename = f'covid_embeddings_model_{N_DOCUMENTS}_docs.w2v'\n",
        "\n",
        "if (os.path.exists(model_filename)):\n",
        "    model = Doc2Vec.load(model_filename)\n",
        "    print(f'Done, loaded word2vec model with { len(model.wv.vocab) } words.')\n",
        "else:\n",
        "    model = Doc2Vec(Corpus(N_DOCUMENTS), vector_size=128, batch_words=10)\n",
        "    model.save(model_filename)\n",
        "    print(f'Done, trained word2vec model with { len(model.wv.vocab) } words.')"
      ],
      "outputs": [
        {
          "output_type": "stream",
          "name": "stdout",
          "text": "Done, trained word2vec model with 12788 words.\nCPU times: user 5min 16s, sys: 979 ms, total: 5min 17s\nWall time: 5min 41s\n"
        }
      ],
      "execution_count": 12,
      "metadata": {}
    },
    {
      "cell_type": "markdown",
      "source": [
        "## Word frequencies\n",
        "\n",
        "Let's analyze the relative frequencies of words in the corpus of articles. We will display a word cloud to provide a visual representation of these relative frequencies."
      ],
      "metadata": {}
    },
    {
      "cell_type": "code",
      "source": [
        "%%time\n",
        "\n",
        "word_vectors = []\n",
        "ids = []\n",
        "\n",
        "for (words, doc_id) in Corpus(N_DOCUMENTS).plain_iter():\n",
        "    ids.append(doc_id)\n",
        "    word_vector = model.infer_vector(words)\n",
        "    word_vectors.append(word_vector)\n",
        "    if len(word_vectors) % 100 == 0:\n",
        "        print(f'Processed {len(word_vectors)} documents.')"
      ],
      "outputs": [
        {
          "output_type": "stream",
          "name": "stdout",
          "text": "Processed 100 documents.\nProcessed 200 documents.\nProcessed 300 documents.\nProcessed 400 documents.\nProcessed 500 documents.\nCPU times: user 58.9 s, sys: 111 ms, total: 59 s\nWall time: 59.7 s\n"
        }
      ],
      "execution_count": 13,
      "metadata": {}
    },
    {
      "cell_type": "markdown",
      "source": [
        "Now that we've finished reading the articles, we can dismount the dataset in order to free up resources"
      ],
      "metadata": {}
    },
    {
      "cell_type": "code",
      "source": [
        "mount.stop()"
      ],
      "outputs": [],
      "execution_count": 14,
      "metadata": {
        "gather": {
          "logged": 1676793905367
        }
      }
    },
    {
      "cell_type": "code",
      "source": [
        "wv_df = pd.DataFrame(word_vectors, index=ids)"
      ],
      "outputs": [],
      "execution_count": 15,
      "metadata": {
        "gather": {
          "logged": 1676793905599
        }
      }
    },
    {
      "cell_type": "markdown",
      "source": [
        "We'll join the DataFrame containing the numerical embeddings with the original dataset."
      ],
      "metadata": {}
    },
    {
      "cell_type": "code",
      "source": [
        "indexed_metadata = metadata_with_docs.set_index('cord_uid')\n",
        "metadata_with_embeddings = pd.concat([indexed_metadata.iloc[:N_DOCUMENTS], wv_df], axis=1)"
      ],
      "outputs": [],
      "execution_count": 16,
      "metadata": {
        "gather": {
          "logged": 1676793905820
        }
      }
    },
    {
      "cell_type": "markdown",
      "source": [
        "## Clustering documents\n",
        "\n",
        "We've determined the acceptable value for the clusters, so let's use Machine Learning to determine those clusters. We'll use the classic KMeans algorithm to do this."
      ],
      "metadata": {}
    },
    {
      "cell_type": "code",
      "source": [
        "visualizer = KElbowVisualizer(KMeans(), k=(3,20))\n",
        "visualizer.fit(wv_df)\n",
        "clusterer = KMeans(12 if visualizer.elbow_value_ > 12 else visualizer.elbow_value_)\n",
        "clusterer.fit(wv_df)\n",
        "clusters = clusterer.labels_"
      ],
      "outputs": [
        {
          "output_type": "stream",
          "name": "stderr",
          "text": "/anaconda/envs/azureml_py38/lib/python3.8/site-packages/sklearn/cluster/_kmeans.py:870: FutureWarning: The default value of `n_init` will change from 10 to 'auto' in 1.4. Set the value of `n_init` explicitly to suppress the warning\n  warnings.warn(\n/anaconda/envs/azureml_py38/lib/python3.8/site-packages/sklearn/cluster/_kmeans.py:870: FutureWarning: The default value of `n_init` will change from 10 to 'auto' in 1.4. Set the value of `n_init` explicitly to suppress the warning\n  warnings.warn(\n/anaconda/envs/azureml_py38/lib/python3.8/site-packages/sklearn/cluster/_kmeans.py:870: FutureWarning: The default value of `n_init` will change from 10 to 'auto' in 1.4. Set the value of `n_init` explicitly to suppress the warning\n  warnings.warn(\n/anaconda/envs/azureml_py38/lib/python3.8/site-packages/sklearn/cluster/_kmeans.py:870: FutureWarning: The default value of `n_init` will change from 10 to 'auto' in 1.4. Set the value of `n_init` explicitly to suppress the warning\n  warnings.warn(\n/anaconda/envs/azureml_py38/lib/python3.8/site-packages/sklearn/cluster/_kmeans.py:870: FutureWarning: The default value of `n_init` will change from 10 to 'auto' in 1.4. Set the value of `n_init` explicitly to suppress the warning\n  warnings.warn(\n/anaconda/envs/azureml_py38/lib/python3.8/site-packages/sklearn/cluster/_kmeans.py:870: FutureWarning: The default value of `n_init` will change from 10 to 'auto' in 1.4. Set the value of `n_init` explicitly to suppress the warning\n  warnings.warn(\n/anaconda/envs/azureml_py38/lib/python3.8/site-packages/sklearn/cluster/_kmeans.py:870: FutureWarning: The default value of `n_init` will change from 10 to 'auto' in 1.4. Set the value of `n_init` explicitly to suppress the warning\n  warnings.warn(\n/anaconda/envs/azureml_py38/lib/python3.8/site-packages/sklearn/cluster/_kmeans.py:870: FutureWarning: The default value of `n_init` will change from 10 to 'auto' in 1.4. Set the value of `n_init` explicitly to suppress the warning\n  warnings.warn(\n/anaconda/envs/azureml_py38/lib/python3.8/site-packages/sklearn/cluster/_kmeans.py:870: FutureWarning: The default value of `n_init` will change from 10 to 'auto' in 1.4. Set the value of `n_init` explicitly to suppress the warning\n  warnings.warn(\n/anaconda/envs/azureml_py38/lib/python3.8/site-packages/sklearn/cluster/_kmeans.py:870: FutureWarning: The default value of `n_init` will change from 10 to 'auto' in 1.4. Set the value of `n_init` explicitly to suppress the warning\n  warnings.warn(\n/anaconda/envs/azureml_py38/lib/python3.8/site-packages/sklearn/cluster/_kmeans.py:870: FutureWarning: The default value of `n_init` will change from 10 to 'auto' in 1.4. Set the value of `n_init` explicitly to suppress the warning\n  warnings.warn(\n/anaconda/envs/azureml_py38/lib/python3.8/site-packages/sklearn/cluster/_kmeans.py:870: FutureWarning: The default value of `n_init` will change from 10 to 'auto' in 1.4. Set the value of `n_init` explicitly to suppress the warning\n  warnings.warn(\n/anaconda/envs/azureml_py38/lib/python3.8/site-packages/sklearn/cluster/_kmeans.py:870: FutureWarning: The default value of `n_init` will change from 10 to 'auto' in 1.4. Set the value of `n_init` explicitly to suppress the warning\n  warnings.warn(\n/anaconda/envs/azureml_py38/lib/python3.8/site-packages/sklearn/cluster/_kmeans.py:870: FutureWarning: The default value of `n_init` will change from 10 to 'auto' in 1.4. Set the value of `n_init` explicitly to suppress the warning\n  warnings.warn(\n/anaconda/envs/azureml_py38/lib/python3.8/site-packages/sklearn/cluster/_kmeans.py:870: FutureWarning: The default value of `n_init` will change from 10 to 'auto' in 1.4. Set the value of `n_init` explicitly to suppress the warning\n  warnings.warn(\n/anaconda/envs/azureml_py38/lib/python3.8/site-packages/sklearn/cluster/_kmeans.py:870: FutureWarning: The default value of `n_init` will change from 10 to 'auto' in 1.4. Set the value of `n_init` explicitly to suppress the warning\n  warnings.warn(\n/anaconda/envs/azureml_py38/lib/python3.8/site-packages/sklearn/cluster/_kmeans.py:870: FutureWarning: The default value of `n_init` will change from 10 to 'auto' in 1.4. Set the value of `n_init` explicitly to suppress the warning\n  warnings.warn(\n/anaconda/envs/azureml_py38/lib/python3.8/site-packages/sklearn/cluster/_kmeans.py:870: FutureWarning: The default value of `n_init` will change from 10 to 'auto' in 1.4. Set the value of `n_init` explicitly to suppress the warning\n  warnings.warn(\nfindfont: Font family ['sans-serif'] not found. Falling back to DejaVu Sans.\n"
        },
        {
          "output_type": "display_data",
          "data": {
            "text/plain": "<Figure size 800x550 with 2 Axes>",
            "image/png": "[encoded data removed]"
          },
          "metadata": {}
        }
      ],
      "execution_count": 17,
      "metadata": {
        "gather": {
          "logged": 1676793909538
        }
      }
    },
    {
      "cell_type": "markdown",
      "source": [
        "We'll add each article's cluster as new column to our combined dataset"
      ],
      "metadata": {}
    },
    {
      "cell_type": "code",
      "source": [
        "metadata_with_clusters = metadata_with_embeddings\n",
        "metadata_with_clusters['cluster'] = clusters\n",
        "metadata_with_clusters"
      ],
      "outputs": [
        {
          "output_type": "execute_result",
          "execution_count": 18,
          "data": {
            "text/plain": "                                                        sha source_x  \\\ncord_uid                                                               \nug7v899j           d1aafb70c066a2068b02786f8929fd9c900897fb      PMC   \n02tnwd4m           6b0567729c2143a66d737eb0a2f63f2dce2e5a7d      PMC   \nejv2xln0           06ced00a5fc04215949aa72528f2eeaae1d58927      PMC   \n2b73a28n           348055649b6b8cf2b9a376498df9bf41f7123605      PMC   \n9785vg6d           5f48792a5fa08bed9f56016f4981ae2ca6031b32      PMC   \n...                                                     ...      ...   \nsn1a7ikq           bb3716d66667c66f6f79b37c765388cd334f2cad      PMC   \n0gt21051  c44a9d064faca56bd284971828e4db13e656365c; 4040...      PMC   \nd3a06n3f           6efeb37a50a81c7769a49bcf030e54b148bd1fbd      PMC   \nc2nuh2yc           64e1170eeb4f949a59dc09e714609a5c36c4122f      PMC   \n184kiuah           0e40f87b34c9f1b2626fb1d4c1d76178a7900a9c      PMC   \n\n                                                      title  \\\ncord_uid                                                      \nug7v899j  Clinical features of culture-proven Mycoplasma...   \n02tnwd4m  Nitric oxide: a pro-inflammatory mediator in l...   \nejv2xln0    Surfactant protein-D and pulmonary host defense   \n2b73a28n               Role of endothelin-1 in lung disease   \n9785vg6d  Gene expression in epithelial cells in respons...   \n...                                                     ...   \nsn1a7ikq  Tylosema esculentum (Marama) Tuber and Bean Ex...   \n0gt21051  Autonomous Targeting of Infectious Superspread...   \nd3a06n3f  Screening of Random Peptide Library of Hemaggl...   \nc2nuh2yc  New Insights of an Old Defense System: Structu...   \n184kiuah  Targeting vaccination against novel infections...   \n\n                                   doi       pmcid pubmed_id license  \\\ncord_uid                                                               \nug7v899j         10.1186/1471-2334-1-6    PMC35282  11472636   no-cc   \n02tnwd4m                  10.1186/rr14    PMC59543  11667967   no-cc   \nejv2xln0                  10.1186/rr19    PMC59549  11667972   no-cc   \n2b73a28n                  10.1186/rr44    PMC59574  11686871   no-cc   \n9785vg6d                  10.1186/rr61    PMC59580  11686888   no-cc   \n...                                ...         ...       ...     ...   \nsn1a7ikq           10.1155/2011/284795  PMC3057194  21423688   cc-by   \n0gt21051  10.1371/journal.pcbi.1002015  PMC3060167  21483468   cc-by   \nd3a06n3f  10.1371/journal.pone.0018016  PMC3060926  21437206   cc-by   \nc2nuh2yc     10.2119/molmed.2010.00149  PMC3060978  21046060   no-cc   \n184kiuah        10.1098/rsif.2010.0474  PMC3061093  20943682   cc-by   \n\n                                                   abstract publish_time  \\\ncord_uid                                                                   \nug7v899j  OBJECTIVE: This retrospective chart review des...   2001-07-04   \n02tnwd4m  Inflammatory diseases of the respiratory tract...   2000-08-15   \nejv2xln0  Surfactant protein-D (SP-D) participates in th...   2000-08-25   \n2b73a28n  Endothelin-1 (ET-1) is a 21 amino acid peptide...   2001-02-22   \n9785vg6d  Respiratory syncytial virus (RSV) and pneumoni...   2001-05-11   \n...                                                     ...          ...   \nsn1a7ikq  Tylosema esculentum (marama) beans and tubers ...   2011-02-20   \n0gt21051  Infectious disease treatments, both pharmaceut...   2011-03-17   \nd3a06n3f  The antigenic structure of the membrane protei...   2011-03-18   \nc2nuh2yc  The complement system was discovered a century...   2010-10-29   \n184kiuah  The emergence of a novel strain of H1N1 influe...   2011-05-06   \n\n                                                    authors  ...       119  \\\ncord_uid                                                     ...             \nug7v899j                Madani, Tariq A; Al-Ghamdi, Aisha A  ...  0.349568   \n02tnwd4m  Vliet, Albert van der; Eiserich, Jason P; Cros...  ...  0.333666   \nejv2xln0                                    Crouch, Erika C  ... -0.678254   \n2b73a28n  Fagan, Karen A; McMurtry, Ivan F; Rodman, David M  ... -0.115347   \n9785vg6d  Domachowske, Joseph B; Bonville, Cynthia A; Ro...  ...  0.187156   \n...                                                     ...  ...       ...   \nsn1a7ikq  Chingwaru, Walter; Majinda, Runner T.; Yeboah,...  ... -0.290292   \n0gt21051  Metzger, Vincent T.; Lloyd-Smith, James O.; We...  ... -3.174060   \nd3a06n3f                Xu, Wanghui; Han, Lu; Lin, Zhanglin  ...  0.580137   \nc2nuh2yc  Ehrnthaller, Christian; Ignatius, Anita; Gebha...  ... -0.390215   \n184kiuah                  Keeling, Matt J.; White, Peter J.  ...  1.053544   \n\n               120       121       122       123       124       125  \\\ncord_uid                                                               \nug7v899j  0.286350  0.161049  0.587505  1.266977 -0.534034 -0.334708   \n02tnwd4m  0.029130 -0.004117  0.863862  0.771726  1.040662 -0.518073   \nejv2xln0  0.043507  1.027341  0.868619  2.163687  0.557132 -1.250222   \n2b73a28n  0.707596  1.307605 -0.561284  3.748788 -1.567740 -2.447715   \n9785vg6d -0.072741  1.139568  0.147747  1.851532 -1.293490  0.020387   \n...            ...       ...       ...       ...       ...       ...   \nsn1a7ikq  2.491299  2.325556 -1.801212  1.774066 -0.457809 -2.347614   \n0gt21051 -0.914619 -0.306507 -0.760139  1.049029 -0.264728  1.728676   \nd3a06n3f -1.411255 -1.376064 -1.119249  0.840659 -1.027522 -1.687285   \nc2nuh2yc -0.773243 -0.306437  0.426399  3.217940 -0.226209 -0.025760   \n184kiuah -0.145044  0.349006 -0.725895  0.917693 -0.384291 -0.189146   \n\n               126       127  cluster  \ncord_uid                               \nug7v899j -0.059299  0.235618        3  \n02tnwd4m  1.333484  0.868478        3  \nejv2xln0  0.285514  2.673776        2  \n2b73a28n  0.697329  2.201251        2  \n9785vg6d  0.411341  0.628136        2  \n...            ...       ...      ...  \nsn1a7ikq -0.815238 -1.307206        0  \n0gt21051 -0.858058  2.140322        3  \nd3a06n3f  1.751633  1.313815        3  \nc2nuh2yc  0.651006  2.313074        2  \n184kiuah -0.847583  0.142812        3  \n\n[500 rows x 147 columns]",
            "text/html": "<div>\n<style scoped>\n    .dataframe tbody tr th:only-of-type {\n        vertical-align: middle;\n    }\n\n    .dataframe tbody tr th {\n        vertical-align: top;\n    }\n\n    .dataframe thead th {\n        text-align: right;\n    }\n</style>\n<table border=\"1\" class=\"dataframe\">\n  <thead>\n    <tr style=\"text-align: right;\">\n      <th></th>\n      <th>sha</th>\n      <th>source_x</th>\n      <th>title</th>\n      <th>doi</th>\n      <th>pmcid</th>\n      <th>pubmed_id</th>\n      <th>license</th>\n      <th>abstract</th>\n      <th>publish_time</th>\n      <th>authors</th>\n      <th>...</th>\n      <th>119</th>\n      <th>120</th>\n      <th>121</th>\n      <th>122</th>\n      <th>123</th>\n      <th>124</th>\n      <th>125</th>\n      <th>126</th>\n      <th>127</th>\n      <th>cluster</th>\n    </tr>\n    <tr>\n      <th>cord_uid</th>\n      <th></th>\n      <th></th>\n      <th></th>\n      <th></th>\n      <th></th>\n      <th></th>\n      <th></th>\n      <th></th>\n      <th></th>\n      <th></th>\n      <th></th>\n      <th></th>\n      <th></th>\n      <th></th>\n      <th></th>\n      <th></th>\n      <th></th>\n      <th></th>\n      <th></th>\n      <th></th>\n      <th></th>\n    </tr>\n  </thead>\n  <tbody>\n    <tr>\n      <th>ug7v899j</th>\n      <td>d1aafb70c066a2068b02786f8929fd9c900897fb</td>\n      <td>PMC</td>\n      <td>Clinical features of culture-proven Mycoplasma...</td>\n      <td>10.1186/1471-2334-1-6</td>\n      <td>PMC35282</td>\n      <td>11472636</td>\n      <td>no-cc</td>\n      <td>OBJECTIVE: This retrospective chart review des...</td>\n      <td>2001-07-04</td>\n      <td>Madani, Tariq A; Al-Ghamdi, Aisha A</td>\n      <td>...</td>\n      <td>0.349568</td>\n      <td>0.286350</td>\n      <td>0.161049</td>\n      <td>0.587505</td>\n      <td>1.266977</td>\n      <td>-0.534034</td>\n      <td>-0.334708</td>\n      <td>-0.059299</td>\n      <td>0.235618</td>\n      <td>3</td>\n    </tr>\n    <tr>\n      <th>02tnwd4m</th>\n      <td>6b0567729c2143a66d737eb0a2f63f2dce2e5a7d</td>\n      <td>PMC</td>\n      <td>Nitric oxide: a pro-inflammatory mediator in l...</td>\n      <td>10.1186/rr14</td>\n      <td>PMC59543</td>\n      <td>11667967</td>\n      <td>no-cc</td>\n      <td>Inflammatory diseases of the respiratory tract...</td>\n      <td>2000-08-15</td>\n      <td>Vliet, Albert van der; Eiserich, Jason P; Cros...</td>\n      <td>...</td>\n      <td>0.333666</td>\n      <td>0.029130</td>\n      <td>-0.004117</td>\n      <td>0.863862</td>\n      <td>0.771726</td>\n      <td>1.040662</td>\n      <td>-0.518073</td>\n      <td>1.333484</td>\n      <td>0.868478</td>\n      <td>3</td>\n    </tr>\n    <tr>\n      <th>ejv2xln0</th>\n      <td>06ced00a5fc04215949aa72528f2eeaae1d58927</td>\n      <td>PMC</td>\n      <td>Surfactant protein-D and pulmonary host defense</td>\n      <td>10.1186/rr19</td>\n      <td>PMC59549</td>\n      <td>11667972</td>\n      <td>no-cc</td>\n      <td>Surfactant protein-D (SP-D) participates in th...</td>\n      <td>2000-08-25</td>\n      <td>Crouch, Erika C</td>\n      <td>...</td>\n      <td>-0.678254</td>\n      <td>0.043507</td>\n      <td>1.027341</td>\n      <td>0.868619</td>\n      <td>2.163687</td>\n      <td>0.557132</td>\n      <td>-1.250222</td>\n      <td>0.285514</td>\n      <td>2.673776</td>\n      <td>2</td>\n    </tr>\n    <tr>\n      <th>2b73a28n</th>\n      <td>348055649b6b8cf2b9a376498df9bf41f7123605</td>\n      <td>PMC</td>\n      <td>Role of endothelin-1 in lung disease</td>\n      <td>10.1186/rr44</td>\n      <td>PMC59574</td>\n      <td>11686871</td>\n      <td>no-cc</td>\n      <td>Endothelin-1 (ET-1) is a 21 amino acid peptide...</td>\n      <td>2001-02-22</td>\n      <td>Fagan, Karen A; McMurtry, Ivan F; Rodman, David M</td>\n      <td>...</td>\n      <td>-0.115347</td>\n      <td>0.707596</td>\n      <td>1.307605</td>\n      <td>-0.561284</td>\n      <td>3.748788</td>\n      <td>-1.567740</td>\n      <td>-2.447715</td>\n      <td>0.697329</td>\n      <td>2.201251</td>\n      <td>2</td>\n    </tr>\n    <tr>\n      <th>9785vg6d</th>\n      <td>5f48792a5fa08bed9f56016f4981ae2ca6031b32</td>\n      <td>PMC</td>\n      <td>Gene expression in epithelial cells in respons...</td>\n      <td>10.1186/rr61</td>\n      <td>PMC59580</td>\n      <td>11686888</td>\n      <td>no-cc</td>\n      <td>Respiratory syncytial virus (RSV) and pneumoni...</td>\n      <td>2001-05-11</td>\n      <td>Domachowske, Joseph B; Bonville, Cynthia A; Ro...</td>\n      <td>...</td>\n      <td>0.187156</td>\n      <td>-0.072741</td>\n      <td>1.139568</td>\n      <td>0.147747</td>\n      <td>1.851532</td>\n      <td>-1.293490</td>\n      <td>0.020387</td>\n      <td>0.411341</td>\n      <td>0.628136</td>\n      <td>2</td>\n    </tr>\n    <tr>\n      <th>...</th>\n      <td>...</td>\n      <td>...</td>\n      <td>...</td>\n      <td>...</td>\n      <td>...</td>\n      <td>...</td>\n      <td>...</td>\n      <td>...</td>\n      <td>...</td>\n      <td>...</td>\n      <td>...</td>\n      <td>...</td>\n      <td>...</td>\n      <td>...</td>\n      <td>...</td>\n      <td>...</td>\n      <td>...</td>\n      <td>...</td>\n      <td>...</td>\n      <td>...</td>\n      <td>...</td>\n    </tr>\n    <tr>\n      <th>sn1a7ikq</th>\n      <td>bb3716d66667c66f6f79b37c765388cd334f2cad</td>\n      <td>PMC</td>\n      <td>Tylosema esculentum (Marama) Tuber and Bean Ex...</td>\n      <td>10.1155/2011/284795</td>\n      <td>PMC3057194</td>\n      <td>21423688</td>\n      <td>cc-by</td>\n      <td>Tylosema esculentum (marama) beans and tubers ...</td>\n      <td>2011-02-20</td>\n      <td>Chingwaru, Walter; Majinda, Runner T.; Yeboah,...</td>\n      <td>...</td>\n      <td>-0.290292</td>\n      <td>2.491299</td>\n      <td>2.325556</td>\n      <td>-1.801212</td>\n      <td>1.774066</td>\n      <td>-0.457809</td>\n      <td>-2.347614</td>\n      <td>-0.815238</td>\n      <td>-1.307206</td>\n      <td>0</td>\n    </tr>\n    <tr>\n      <th>0gt21051</th>\n      <td>c44a9d064faca56bd284971828e4db13e656365c; 4040...</td>\n      <td>PMC</td>\n      <td>Autonomous Targeting of Infectious Superspread...</td>\n      <td>10.1371/journal.pcbi.1002015</td>\n      <td>PMC3060167</td>\n      <td>21483468</td>\n      <td>cc-by</td>\n      <td>Infectious disease treatments, both pharmaceut...</td>\n      <td>2011-03-17</td>\n      <td>Metzger, Vincent T.; Lloyd-Smith, James O.; We...</td>\n      <td>...</td>\n      <td>-3.174060</td>\n      <td>-0.914619</td>\n      <td>-0.306507</td>\n      <td>-0.760139</td>\n      <td>1.049029</td>\n      <td>-0.264728</td>\n      <td>1.728676</td>\n      <td>-0.858058</td>\n      <td>2.140322</td>\n      <td>3</td>\n    </tr>\n    <tr>\n      <th>d3a06n3f</th>\n      <td>6efeb37a50a81c7769a49bcf030e54b148bd1fbd</td>\n      <td>PMC</td>\n      <td>Screening of Random Peptide Library of Hemaggl...</td>\n      <td>10.1371/journal.pone.0018016</td>\n      <td>PMC3060926</td>\n      <td>21437206</td>\n      <td>cc-by</td>\n      <td>The antigenic structure of the membrane protei...</td>\n      <td>2011-03-18</td>\n      <td>Xu, Wanghui; Han, Lu; Lin, Zhanglin</td>\n      <td>...</td>\n      <td>0.580137</td>\n      <td>-1.411255</td>\n      <td>-1.376064</td>\n      <td>-1.119249</td>\n      <td>0.840659</td>\n      <td>-1.027522</td>\n      <td>-1.687285</td>\n      <td>1.751633</td>\n      <td>1.313815</td>\n      <td>3</td>\n    </tr>\n    <tr>\n      <th>c2nuh2yc</th>\n      <td>64e1170eeb4f949a59dc09e714609a5c36c4122f</td>\n      <td>PMC</td>\n      <td>New Insights of an Old Defense System: Structu...</td>\n      <td>10.2119/molmed.2010.00149</td>\n      <td>PMC3060978</td>\n      <td>21046060</td>\n      <td>no-cc</td>\n      <td>The complement system was discovered a century...</td>\n      <td>2010-10-29</td>\n      <td>Ehrnthaller, Christian; Ignatius, Anita; Gebha...</td>\n      <td>...</td>\n      <td>-0.390215</td>\n      <td>-0.773243</td>\n      <td>-0.306437</td>\n      <td>0.426399</td>\n      <td>3.217940</td>\n      <td>-0.226209</td>\n      <td>-0.025760</td>\n      <td>0.651006</td>\n      <td>2.313074</td>\n      <td>2</td>\n    </tr>\n    <tr>\n      <th>184kiuah</th>\n      <td>0e40f87b34c9f1b2626fb1d4c1d76178a7900a9c</td>\n      <td>PMC</td>\n      <td>Targeting vaccination against novel infections...</td>\n      <td>10.1098/rsif.2010.0474</td>\n      <td>PMC3061093</td>\n      <td>20943682</td>\n      <td>cc-by</td>\n      <td>The emergence of a novel strain of H1N1 influe...</td>\n      <td>2011-05-06</td>\n      <td>Keeling, Matt J.; White, Peter J.</td>\n      <td>...</td>\n      <td>1.053544</td>\n      <td>-0.145044</td>\n      <td>0.349006</td>\n      <td>-0.725895</td>\n      <td>0.917693</td>\n      <td>-0.384291</td>\n      <td>-0.189146</td>\n      <td>-0.847583</td>\n      <td>0.142812</td>\n      <td>3</td>\n    </tr>\n  </tbody>\n</table>\n<p>500 rows × 147 columns</p>\n</div>"
          },
          "metadata": {}
        }
      ],
      "execution_count": 18,
      "metadata": {
        "gather": {
          "logged": 1676793909799
        }
      }
    },
    {
      "cell_type": "markdown",
      "source": [
        "We can now split our data into two datasets - a **training** one that will be used to train a Machine Learning model, able to determine the cluster that should be assigned to an article, and a **test** one that we'll use to test this classifier.\n",
        "\n",
        "We will allocate 80% of the articles to training the Machine Learning model, and the remaining 20% to testing it."
      ],
      "metadata": {}
    },
    {
      "cell_type": "code",
      "source": [
        "train, test = train_test_split(metadata_with_clusters, train_size=0.8)\n",
        "train"
      ],
      "outputs": [
        {
          "output_type": "execute_result",
          "execution_count": 19,
          "data": {
            "text/plain": "                                               sha source_x  \\\ncord_uid                                                      \nwnuqe66q  859ce5fe8d78cc11563e30669e02272ad2470d03      PMC   \n928pkpv2  7234aab6f4e46d4349fee1e8b38412a5eaebbe3f      PMC   \n67oorg1b  ea0ae02d57835b862e82faacc5b8e9ed9a92bebb      PMC   \nt35n7bk9  30a4842a2e257f725cc041e32fd682c495111a50      PMC   \n3dgjv0x1  0951f5ec3710990a5c181e04fa8fdf7d9a0376e5      PMC   \n...                                            ...      ...   \nrq08bhu9  53b9ed3c0545c27d946916518be816d6e2da90c5      PMC   \nb0oiig7g  e73a6a49cecb243ce24b57182cd354db7922d7e0      PMC   \nth0wddvc  6522e893e7f5739f96db413b61932c949e5fad2d      PMC   \ndognow0r  ba5705abe2333b10925a5b8a45bc8d8b06f8ec50      PMC   \nfvfjz7al  53dbd21da3e3a026ab15e946639b45970d6304de      PMC   \n\n                                                      title  \\\ncord_uid                                                      \nwnuqe66q  Global public goods and the global health agen...   \n928pkpv2  Rift Valley Fever Virus NSs Protein Promotes P...   \n67oorg1b  Community acquired methicillin-resistant Staph...   \nt35n7bk9  Multi-faceted, multi-versatile microarray: sim...   \n3dgjv0x1  HIV-Specific T-Cells Accumulate in the Liver i...   \n...                                                     ...   \nrq08bhu9  Multifunctional nanoparticles as simulants for...   \nb0oiig7g           Diagnosis and treatment of severe sepsis   \nth0wddvc  A Single Immunization with Soluble Recombinant...   \ndognow0r  Excess healthcare burden during 1918-1920 infl...   \nfvfjz7al  Public health preparedness in Alberta: a syste...   \n\n                                   doi       pmcid pubmed_id license  \\\ncord_uid                                                               \nwnuqe66q         10.1186/1744-8603-3-9  PMC2034545  17888173   cc-by   \n928pkpv2  10.1371/journal.ppat.1000287  PMC2629125  19197350   cc-by   \n67oorg1b        10.1186/1757-1626-3-61  PMC2831021  20205915   cc-by   \nt35n7bk9        10.1186/1742-4690-1-11   PMC420498  15169556   no-cc   \n3dgjv0x1  10.1371/journal.pone.0003454  PMC2565067  18941622   cc-by   \n...                                ...         ...       ...     ...   \nrq08bhu9     10.1007/s00216-010-4419-8  PMC3031959  21110011   no-cc   \nb0oiig7g                10.1186/cc6153  PMC2230613  18269689   no-cc   \nth0wddvc  10.1371/journal.pone.0010645  PMC2871037  20498717   cc-by   \ndognow0r       10.1186/1471-2458-11-41  PMC3031222  21241466   cc-by   \nfvfjz7al       10.1186/1471-2458-6-313  PMC1779785  17194305   cc-by   \n\n                                                   abstract publish_time  \\\ncord_uid                                                                   \nwnuqe66q  The 'global public good' (GPG) concept has gai...   2007-09-22   \n928pkpv2  Rift Valley fever virus (RVFV) (genus Phlebovi...   2009-02-06   \n67oorg1b  Community-acquired methicillin resistant Staph...   2010-02-14   \nt35n7bk9  There are hundreds of viruses that infect diff...   2004-05-26   \n3dgjv0x1  BACKGROUND AND AIMS: Hepatitis C Virus (HCV)-r...   2008-10-20   \n...                                                     ...          ...   \nrq08bhu9  Immunoassays are important tools for the rapid...   2010-11-26   \nb0oiig7g  The burden of infection in industrialized coun...   2007-12-19   \nth0wddvc  BACKGROUND: The highly pathogenic avian influe...   2010-05-14   \ndognow0r  BACKGROUND: It is speculated that the 2009 pan...   2011-01-17   \nfvfjz7al  BACKGROUND: Recent international and national ...   2006-12-28   \n\n                                                    authors  ...       119  \\\ncord_uid                                                     ...             \nwnuqe66q                Smith, Richard D; MacKellar, Landis  ...  0.777748   \n928pkpv2  Ikegami, Tetsuro; Narayanan, Krishna; Won, Sun...  ...  1.402563   \n67oorg1b  Goundan, Poorani Nallam; Mehrotra, Anurag; Man...  ... -0.297127   \nt35n7bk9                          Shieh, Biehuoy; Li, Ching  ...  0.029536   \n3dgjv0x1  Vali, Bahareh; Yue, Feng Yun; Jones, R. Brad; ...  ... -0.351732   \n...                                                     ...  ...       ...   \nrq08bhu9  Miller, Scott A.; Hiatt, Leslie A.; Keil, Robe...  ...  0.273485   \nb0oiig7g     Claessens, Yann-Erick; Dhainaut, Jean-François  ... -1.045284   \nth0wddvc  Cornelissen, Lisette A. H. M.; de Vries, Rober...  ...  0.614988   \ndognow0r                      Hsieh, Ying-Hen; Chan, Chi-Ho  ... -0.550062   \nfvfjz7al  Moore, Douglas; Shiell, Alan; Noseworthy, Tom;...  ... -0.194385   \n\n               120       121       122       123       124       125  \\\ncord_uid                                                               \nwnuqe66q -1.353916  0.582204  0.174967 -1.861718 -1.006373 -0.311820   \n928pkpv2  3.999882  0.023017  0.567442  1.392923 -1.756844 -0.981589   \n67oorg1b -0.035521 -0.009568 -0.493845  1.139249 -0.180229 -0.564527   \nt35n7bk9  0.361603  0.043176 -0.433011  0.474106 -0.393569 -0.344960   \n3dgjv0x1 -0.822244 -0.551069 -0.336725  0.326441  0.363430 -0.990587   \n...            ...       ...       ...       ...       ...       ...   \nrq08bhu9  1.030120 -0.396854 -0.534422  1.252956  0.839620 -0.334038   \nb0oiig7g -0.220279 -0.445662 -0.305329  2.673918 -0.021506 -0.278324   \nth0wddvc -2.046491 -0.980220  1.567037  0.399823 -0.563181 -0.005026   \ndognow0r -0.143485 -0.260954  0.051128  0.631989 -0.067473 -0.847020   \nfvfjz7al  0.451321 -0.134353  0.022028  0.431319 -0.994226 -1.104129   \n\n               126       127  cluster  \ncord_uid                               \nwnuqe66q -0.305872  1.523155        4  \n928pkpv2  0.546008 -3.566009        5  \n67oorg1b -0.407639  0.562533        3  \nt35n7bk9 -0.261388  0.205009        3  \n3dgjv0x1  2.087224  0.412132        5  \n...            ...       ...      ...  \nrq08bhu9  1.511864  1.712960        2  \nb0oiig7g  0.729534  1.742220        2  \nth0wddvc  0.919228  1.242067        3  \ndognow0r -0.135903  0.992628        3  \nfvfjz7al -0.530963  0.139288        3  \n\n[400 rows x 147 columns]",
            "text/html": "<div>\n<style scoped>\n    .dataframe tbody tr th:only-of-type {\n        vertical-align: middle;\n    }\n\n    .dataframe tbody tr th {\n        vertical-align: top;\n    }\n\n    .dataframe thead th {\n        text-align: right;\n    }\n</style>\n<table border=\"1\" class=\"dataframe\">\n  <thead>\n    <tr style=\"text-align: right;\">\n      <th></th>\n      <th>sha</th>\n      <th>source_x</th>\n      <th>title</th>\n      <th>doi</th>\n      <th>pmcid</th>\n      <th>pubmed_id</th>\n      <th>license</th>\n      <th>abstract</th>\n      <th>publish_time</th>\n      <th>authors</th>\n      <th>...</th>\n      <th>119</th>\n      <th>120</th>\n      <th>121</th>\n      <th>122</th>\n      <th>123</th>\n      <th>124</th>\n      <th>125</th>\n      <th>126</th>\n      <th>127</th>\n      <th>cluster</th>\n    </tr>\n    <tr>\n      <th>cord_uid</th>\n      <th></th>\n      <th></th>\n      <th></th>\n      <th></th>\n      <th></th>\n      <th></th>\n      <th></th>\n      <th></th>\n      <th></th>\n      <th></th>\n      <th></th>\n      <th></th>\n      <th></th>\n      <th></th>\n      <th></th>\n      <th></th>\n      <th></th>\n      <th></th>\n      <th></th>\n      <th></th>\n      <th></th>\n    </tr>\n  </thead>\n  <tbody>\n    <tr>\n      <th>wnuqe66q</th>\n      <td>859ce5fe8d78cc11563e30669e02272ad2470d03</td>\n      <td>PMC</td>\n      <td>Global public goods and the global health agen...</td>\n      <td>10.1186/1744-8603-3-9</td>\n      <td>PMC2034545</td>\n      <td>17888173</td>\n      <td>cc-by</td>\n      <td>The 'global public good' (GPG) concept has gai...</td>\n      <td>2007-09-22</td>\n      <td>Smith, Richard D; MacKellar, Landis</td>\n      <td>...</td>\n      <td>0.777748</td>\n      <td>-1.353916</td>\n      <td>0.582204</td>\n      <td>0.174967</td>\n      <td>-1.861718</td>\n      <td>-1.006373</td>\n      <td>-0.311820</td>\n      <td>-0.305872</td>\n      <td>1.523155</td>\n      <td>4</td>\n    </tr>\n    <tr>\n      <th>928pkpv2</th>\n      <td>7234aab6f4e46d4349fee1e8b38412a5eaebbe3f</td>\n      <td>PMC</td>\n      <td>Rift Valley Fever Virus NSs Protein Promotes P...</td>\n      <td>10.1371/journal.ppat.1000287</td>\n      <td>PMC2629125</td>\n      <td>19197350</td>\n      <td>cc-by</td>\n      <td>Rift Valley fever virus (RVFV) (genus Phlebovi...</td>\n      <td>2009-02-06</td>\n      <td>Ikegami, Tetsuro; Narayanan, Krishna; Won, Sun...</td>\n      <td>...</td>\n      <td>1.402563</td>\n      <td>3.999882</td>\n      <td>0.023017</td>\n      <td>0.567442</td>\n      <td>1.392923</td>\n      <td>-1.756844</td>\n      <td>-0.981589</td>\n      <td>0.546008</td>\n      <td>-3.566009</td>\n      <td>5</td>\n    </tr>\n    <tr>\n      <th>67oorg1b</th>\n      <td>ea0ae02d57835b862e82faacc5b8e9ed9a92bebb</td>\n      <td>PMC</td>\n      <td>Community acquired methicillin-resistant Staph...</td>\n      <td>10.1186/1757-1626-3-61</td>\n      <td>PMC2831021</td>\n      <td>20205915</td>\n      <td>cc-by</td>\n      <td>Community-acquired methicillin resistant Staph...</td>\n      <td>2010-02-14</td>\n      <td>Goundan, Poorani Nallam; Mehrotra, Anurag; Man...</td>\n      <td>...</td>\n      <td>-0.297127</td>\n      <td>-0.035521</td>\n      <td>-0.009568</td>\n      <td>-0.493845</td>\n      <td>1.139249</td>\n      <td>-0.180229</td>\n      <td>-0.564527</td>\n      <td>-0.407639</td>\n      <td>0.562533</td>\n      <td>3</td>\n    </tr>\n    <tr>\n      <th>t35n7bk9</th>\n      <td>30a4842a2e257f725cc041e32fd682c495111a50</td>\n      <td>PMC</td>\n      <td>Multi-faceted, multi-versatile microarray: sim...</td>\n      <td>10.1186/1742-4690-1-11</td>\n      <td>PMC420498</td>\n      <td>15169556</td>\n      <td>no-cc</td>\n      <td>There are hundreds of viruses that infect diff...</td>\n      <td>2004-05-26</td>\n      <td>Shieh, Biehuoy; Li, Ching</td>\n      <td>...</td>\n      <td>0.029536</td>\n      <td>0.361603</td>\n      <td>0.043176</td>\n      <td>-0.433011</td>\n      <td>0.474106</td>\n      <td>-0.393569</td>\n      <td>-0.344960</td>\n      <td>-0.261388</td>\n      <td>0.205009</td>\n      <td>3</td>\n    </tr>\n    <tr>\n      <th>3dgjv0x1</th>\n      <td>0951f5ec3710990a5c181e04fa8fdf7d9a0376e5</td>\n      <td>PMC</td>\n      <td>HIV-Specific T-Cells Accumulate in the Liver i...</td>\n      <td>10.1371/journal.pone.0003454</td>\n      <td>PMC2565067</td>\n      <td>18941622</td>\n      <td>cc-by</td>\n      <td>BACKGROUND AND AIMS: Hepatitis C Virus (HCV)-r...</td>\n      <td>2008-10-20</td>\n      <td>Vali, Bahareh; Yue, Feng Yun; Jones, R. Brad; ...</td>\n      <td>...</td>\n      <td>-0.351732</td>\n      <td>-0.822244</td>\n      <td>-0.551069</td>\n      <td>-0.336725</td>\n      <td>0.326441</td>\n      <td>0.363430</td>\n      <td>-0.990587</td>\n      <td>2.087224</td>\n      <td>0.412132</td>\n      <td>5</td>\n    </tr>\n    <tr>\n      <th>...</th>\n      <td>...</td>\n      <td>...</td>\n      <td>...</td>\n      <td>...</td>\n      <td>...</td>\n      <td>...</td>\n      <td>...</td>\n      <td>...</td>\n      <td>...</td>\n      <td>...</td>\n      <td>...</td>\n      <td>...</td>\n      <td>...</td>\n      <td>...</td>\n      <td>...</td>\n      <td>...</td>\n      <td>...</td>\n      <td>...</td>\n      <td>...</td>\n      <td>...</td>\n      <td>...</td>\n    </tr>\n    <tr>\n      <th>rq08bhu9</th>\n      <td>53b9ed3c0545c27d946916518be816d6e2da90c5</td>\n      <td>PMC</td>\n      <td>Multifunctional nanoparticles as simulants for...</td>\n      <td>10.1007/s00216-010-4419-8</td>\n      <td>PMC3031959</td>\n      <td>21110011</td>\n      <td>no-cc</td>\n      <td>Immunoassays are important tools for the rapid...</td>\n      <td>2010-11-26</td>\n      <td>Miller, Scott A.; Hiatt, Leslie A.; Keil, Robe...</td>\n      <td>...</td>\n      <td>0.273485</td>\n      <td>1.030120</td>\n      <td>-0.396854</td>\n      <td>-0.534422</td>\n      <td>1.252956</td>\n      <td>0.839620</td>\n      <td>-0.334038</td>\n      <td>1.511864</td>\n      <td>1.712960</td>\n      <td>2</td>\n    </tr>\n    <tr>\n      <th>b0oiig7g</th>\n      <td>e73a6a49cecb243ce24b57182cd354db7922d7e0</td>\n      <td>PMC</td>\n      <td>Diagnosis and treatment of severe sepsis</td>\n      <td>10.1186/cc6153</td>\n      <td>PMC2230613</td>\n      <td>18269689</td>\n      <td>no-cc</td>\n      <td>The burden of infection in industrialized coun...</td>\n      <td>2007-12-19</td>\n      <td>Claessens, Yann-Erick; Dhainaut, Jean-François</td>\n      <td>...</td>\n      <td>-1.045284</td>\n      <td>-0.220279</td>\n      <td>-0.445662</td>\n      <td>-0.305329</td>\n      <td>2.673918</td>\n      <td>-0.021506</td>\n      <td>-0.278324</td>\n      <td>0.729534</td>\n      <td>1.742220</td>\n      <td>2</td>\n    </tr>\n    <tr>\n      <th>th0wddvc</th>\n      <td>6522e893e7f5739f96db413b61932c949e5fad2d</td>\n      <td>PMC</td>\n      <td>A Single Immunization with Soluble Recombinant...</td>\n      <td>10.1371/journal.pone.0010645</td>\n      <td>PMC2871037</td>\n      <td>20498717</td>\n      <td>cc-by</td>\n      <td>BACKGROUND: The highly pathogenic avian influe...</td>\n      <td>2010-05-14</td>\n      <td>Cornelissen, Lisette A. H. M.; de Vries, Rober...</td>\n      <td>...</td>\n      <td>0.614988</td>\n      <td>-2.046491</td>\n      <td>-0.980220</td>\n      <td>1.567037</td>\n      <td>0.399823</td>\n      <td>-0.563181</td>\n      <td>-0.005026</td>\n      <td>0.919228</td>\n      <td>1.242067</td>\n      <td>3</td>\n    </tr>\n    <tr>\n      <th>dognow0r</th>\n      <td>ba5705abe2333b10925a5b8a45bc8d8b06f8ec50</td>\n      <td>PMC</td>\n      <td>Excess healthcare burden during 1918-1920 infl...</td>\n      <td>10.1186/1471-2458-11-41</td>\n      <td>PMC3031222</td>\n      <td>21241466</td>\n      <td>cc-by</td>\n      <td>BACKGROUND: It is speculated that the 2009 pan...</td>\n      <td>2011-01-17</td>\n      <td>Hsieh, Ying-Hen; Chan, Chi-Ho</td>\n      <td>...</td>\n      <td>-0.550062</td>\n      <td>-0.143485</td>\n      <td>-0.260954</td>\n      <td>0.051128</td>\n      <td>0.631989</td>\n      <td>-0.067473</td>\n      <td>-0.847020</td>\n      <td>-0.135903</td>\n      <td>0.992628</td>\n      <td>3</td>\n    </tr>\n    <tr>\n      <th>fvfjz7al</th>\n      <td>53dbd21da3e3a026ab15e946639b45970d6304de</td>\n      <td>PMC</td>\n      <td>Public health preparedness in Alberta: a syste...</td>\n      <td>10.1186/1471-2458-6-313</td>\n      <td>PMC1779785</td>\n      <td>17194305</td>\n      <td>cc-by</td>\n      <td>BACKGROUND: Recent international and national ...</td>\n      <td>2006-12-28</td>\n      <td>Moore, Douglas; Shiell, Alan; Noseworthy, Tom;...</td>\n      <td>...</td>\n      <td>-0.194385</td>\n      <td>0.451321</td>\n      <td>-0.134353</td>\n      <td>0.022028</td>\n      <td>0.431319</td>\n      <td>-0.994226</td>\n      <td>-1.104129</td>\n      <td>-0.530963</td>\n      <td>0.139288</td>\n      <td>3</td>\n    </tr>\n  </tbody>\n</table>\n<p>400 rows × 147 columns</p>\n</div>"
          },
          "metadata": {}
        }
      ],
      "execution_count": 19,
      "metadata": {
        "gather": {
          "logged": 1676793910073
        }
      }
    },
    {
      "cell_type": "markdown",
      "source": [
        "To speed up training, we'll ignore all columns except the word vectors calculated using Doc2Vec. For this reason, we will create a separate dataset just with the vectors."
      ],
      "metadata": {}
    },
    {
      "cell_type": "code",
      "source": [
        "columns_to_ignore = ['sha', 'source_x', 'title', 'doi', 'pmcid', 'pubmed_id', 'license', 'abstract', 'publish_time', 'authors', 'journal', 'mag_id',\n",
        "                     'who_covidence_id', 'arxiv_id', 'pdf_json_files', 'pmc_json_files', 'url', 's2_id' ]\n",
        "train_data_vectors = train.drop(columns_to_ignore, axis=1)\n",
        "test_data_vectors = test.drop(columns_to_ignore, axis=1)"
      ],
      "outputs": [],
      "execution_count": 20,
      "metadata": {
        "gather": {
          "logged": 1676793910280
        }
      }
    },
    {
      "cell_type": "markdown",
      "source": [
        "## Register the training and testing datasets for AutoML availability\n",
        "\n",
        "We're registering the training and testing datasets with the Azure Machine Learning datastore to make them available inside Azure Machine Learning Studio and Automated ML."
      ],
      "metadata": {}
    },
    {
      "cell_type": "code",
      "source": [
        "# Retrieve your ML workspace\n",
        "ws = Workspace.from_config()\n",
        "# Retrieve the workspace's default datastore\n",
        "datastore = ws.get_default_datastore()\n",
        "\n",
        "Dataset.Tabular.register_pandas_dataframe(train_data_vectors, datastore, 'COVID19Articles_Train')\n",
        "Dataset.Tabular.register_pandas_dataframe(test_data_vectors, datastore, 'COVID19Articles_Test')"
      ],
      "outputs": [
        {
          "output_type": "stream",
          "name": "stdout",
          "text": "Validating arguments.\nArguments validated.\nSuccessfully obtained datastore reference and path.\nUploading file to managed-dataset/f6c69fde-ab36-4363-848a-66fa8d2084bb/\nSuccessfully uploaded file to datastore.\nCreating and registering a new dataset.\nSuccessfully created and registered a new dataset.\nValidating arguments.\nArguments validated.\nSuccessfully obtained datastore reference and path.\nUploading file to managed-dataset/bbad7e58-ab39-4fc8-a574-cda2bd90bf54/\nSuccessfully uploaded file to datastore.\nCreating and registering a new dataset.\nSuccessfully created and registered a new dataset.\n"
        },
        {
          "output_type": "execute_result",
          "execution_count": 21,
          "data": {
            "text/plain": "{\n  \"source\": [\n    \"('workspaceblobstore', 'managed-dataset/bbad7e58-ab39-4fc8-a574-cda2bd90bf54/')\"\n  ],\n  \"definition\": [\n    \"GetDatastoreFiles\",\n    \"ReadParquetFile\",\n    \"DropColumns\"\n  ],\n  \"registration\": {\n    \"id\": \"3d7b40a2-2d9a-4af5-bc32-aecad766643b\",\n    \"name\": \"COVID19Articles_Test\",\n    \"version\": 1,\n    \"workspace\": \"Workspace.create(name='mlw-gai1-f4xzq', subscription_id='23529470-ba17-4d8a-9f0c-064e63a49c33', resource_group='rg-gai1-f4xzq')\"\n  }\n}"
          },
          "metadata": {}
        }
      ],
      "execution_count": 21,
      "metadata": {
        "gather": {
          "logged": 1676793914243
        }
      }
    },
    {
      "cell_type": "code",
      "source": [
        "# The name of the compute instance\n",
        "compute_name = 'aml-compute-cpu'\n",
        "# The minimum and maximum number of nodes of the compute instance\n",
        "compute_min_nodes = 1\n",
        "# Setting the number of maximum nodes to a higher value will allow Automated ML to run more experiments in parallel, but will also inccrease your costs\n",
        "compute_max_nodes = 1\n",
        "\n",
        "vm_size = 'STANDARD_DS3_V2'\n",
        "\n",
        "# Check existing compute targets in the workspace for a compute with this name\n",
        "if compute_name in ws.compute_targets:\n",
        "    compute_target = ws.compute_targets[compute_name]\n",
        "    if compute_target and type(compute_target) is AmlCompute:\n",
        "        print(f'Found existing compute target: {compute_name}')    \n",
        "else:\n",
        "    print(f'A new compute target is needed: {compute_name}')\n",
        "    provisioning_config = AmlCompute.provisioning_configuration(vm_size = vm_size,\n",
        "                                                                min_nodes = compute_min_nodes, \n",
        "                                                                max_nodes = compute_max_nodes)\n",
        "\n",
        "    # Create the cluster\n",
        "    compute_target = ComputeTarget.create(ws, compute_name, provisioning_config)\n",
        "    \n",
        "    # Wait for provisioning to complete\n",
        "    compute_target.wait_for_completion(show_output=True, min_node_count=None, timeout_in_minutes=20)\n"
      ],
      "outputs": [
        {
          "output_type": "stream",
          "name": "stdout",
          "text": "A new compute target is needed: aml-compute-cpu\nInProgress..\nSucceededProvisioning operation finished, operation \"Succeeded\"\nSucceeded..............................................\nAmlCompute wait for completion finished\n\nMinimum number of nodes requested have been provisioned\n"
        }
      ],
      "execution_count": 22,
      "metadata": {
        "gather": {
          "logged": 1676794165844
        }
      }
    },
    {
      "cell_type": "code",
      "source": [
        "# Retrieve the COVID19Articles_Train dataset from the workspace\n",
        "train_data = Dataset.get_by_name(ws, 'COVID19Articles_Train')\n",
        "\n",
        "\n",
        "\n",
        "# Configura Automated ML\n",
        "automl_config = AutoMLConfig(task = \"classification\",\n",
        "                             # Use weighted area under curve metric to evaluate the models\n",
        "                             primary_metric='AUC_weighted',\n",
        "                             \n",
        "                             # Use all columns except the ones we decided to ignore\n",
        "                             training_data = train_data,\n",
        "                             \n",
        "                             # The values we're trying to predict are in the `cluster` column\n",
        "                             label_column_name = 'cluster',\n",
        "                             \n",
        "                             # Evaluate the model with 5-fold cross validation\n",
        "                             n_cross_validations=5,\n",
        "                             \n",
        "                             # The experiment should be stopped after 15 minutes, to minimize cost\n",
        "                             experiment_timeout_hours=.25,\n",
        "                             #blocked_models=['XGBoostClassifier'],\n",
        "                             \n",
        "                             # Automated ML can try at most 1 models at the same time, this is also limited by the compute instance's maximum number of nodes\n",
        "                             max_concurrent_iterations=1,\n",
        "                             \n",
        "                             # An iteration should be stopped if it takes more than 5 minutes\n",
        "                             iteration_timeout_minutes=3,\n",
        "                             \n",
        "                             compute_target=compute_target,\n",
        "                             \n",
        "                             #The total number of different algorithm and parameter combinations to test during an automated ML experiment. If not specified, the default is 1000 iterations.\n",
        "                             iterations = 5\n",
        "                            )"
      ],
      "outputs": [],
      "execution_count": 23,
      "metadata": {
        "gather": {
          "logged": 1676794166087
        }
      }
    },
    {
      "cell_type": "code",
      "source": [
        "# Use the `COVID19Articles_Train_Vectors` dataset\n",
        "exp = Experiment(ws, 'COVID19_Classification')\n",
        "run = exp.submit(automl_config, show_output=True)"
      ],
      "outputs": [
        {
          "output_type": "stream",
          "name": "stdout",
          "text": "Submitting remote run.\nNo run_configuration provided, running on aml-compute-cpu with default configuration\nRunning on remote compute: aml-compute-cpu\n"
        },
        {
          "output_type": "display_data",
          "data": {
            "text/plain": "<IPython.core.display.HTML object>",
            "text/html": "<table style=\"width:100%\"><tr><th>Experiment</th><th>Id</th><th>Type</th><th>Status</th><th>Details Page</th><th>Docs Page</th></tr><tr><td>COVID19_Classification</td><td>AutoML_45a6f682-c1b9-45ae-960e-9ae2d9c5a3ff</td><td>automl</td><td>NotStarted</td><td><a href=\"https://ml.azure.com/runs/AutoML_45a6f682-c1b9-45ae-960e-9ae2d9c5a3ff?wsid=/subscriptions/23529470-ba17-4d8a-9f0c-064e63a49c33/resourcegroups/rg-gai1-f4xzq/workspaces/mlw-gai1-f4xzq&amp;tid=178121b9-4c42-4e6f-8611-0350f0190053\" target=\"_blank\" rel=\"noopener\">Link to Azure Machine Learning studio</a></td><td><a href=\"https://docs.microsoft.com/en-us/python/api/overview/azure/ml/intro?view=azure-ml-py\" target=\"_blank\" rel=\"noopener\">Link to Documentation</a></td></tr></table>"
          },
          "metadata": {}
        },
        {
          "output_type": "stream",
          "name": "stdout",
          "text": "\nCurrent status: FeaturesGeneration. Generating features for the dataset.\nCurrent status: DatasetBalancing. Performing class balancing sweeping\nCurrent status: ModelSelection. Beginning model selection.\n\n********************************************************************************************\nDATA GUARDRAILS: \n\nTYPE:         Class balancing detection\nSTATUS:       ALERTED\nDESCRIPTION:  To decrease model bias, please cancel the current run and fix balancing problem.\n              Learn more about imbalanced data: https://aka.ms/AutomatedMLImbalancedData\nDETAILS:      Imbalanced data can lead to a falsely perceived positive effect of a model's accuracy because the input data has bias towards one class.\n+------------------------------+--------------------------------+--------------------------------------+\n|Size of the smallest class    |Name/Label of the smallest class|Number of samples in the training data|\n+==============================+================================+======================================+\n|1                             |6, 8, 9                         |400                                   |\n+------------------------------+--------------------------------+--------------------------------------+\n\n********************************************************************************************\n\nTYPE:         Missing feature values imputation\nSTATUS:       PASSED\nDESCRIPTION:  No feature missing values were detected in the training data.\n              Learn more about missing value imputation: https://aka.ms/AutomatedMLFeaturization\n\n********************************************************************************************\n\nTYPE:         High cardinality feature detection\nSTATUS:       PASSED\nDESCRIPTION:  Your inputs were analyzed, and no high cardinality features were detected.\n              Learn more about high cardinality feature handling: https://aka.ms/AutomatedMLFeaturization\n\n********************************************************************************************\n\n********************************************************************************************\nITER: The iteration being evaluated.\nPIPELINE: A summary description of the pipeline being evaluated.\nDURATION: Time taken for the current iteration.\nMETRIC: The result of computing score on the fitted pipeline.\nBEST: The best observed score thus far.\n********************************************************************************************\n\n ITER   PIPELINE                                       DURATION            METRIC      BEST\n    0   MaxAbsScaler LightGBM                          0:00:33             0.9582    0.9582\n    1   MaxAbsScaler XGBoostClassifier                 0:00:26             0.9524    0.9582\n    2   MaxAbsScaler ExtremeRandomTrees                0:00:18             0.9077    0.9582\n    3    VotingEnsemble                                0:00:32             0.9594    0.9594\n    4    StackEnsemble                                 0:00:42             0.9391    0.9594\n"
        }
      ],
      "execution_count": 24,
      "metadata": {
        "gather": {
          "logged": 1676795096774
        }
      }
    },
    {
      "cell_type": "code",
      "source": [
        "\n",
        "# Retrieve the best performing run and its corresponding model from the aggregated Automated ML run\n",
        "best_run, best_model = run.get_output()"
      ],
      "outputs": [],
      "execution_count": 31,
      "metadata": {
        "gather": {
          "logged": 1676795414027
        }
      }
    },
    {
      "cell_type": "code",
      "source": [
        "RunDetails(run).show()"
      ],
      "outputs": [
        {
          "output_type": "display_data",
          "data": {
            "text/plain": "_AutoMLWidget(widget_settings={'childWidgetDisplay': 'popup', 'send_telemetry': False, 'log_level': 'INFO', 's…",
            "application/vnd.jupyter.widget-view+json": {
              "version_major": 2,
              "version_minor": 0,
              "model_id": "0a82d28024764c5f890c04a8a4442ac6"
            }
          },
          "metadata": {}
        },
        {
          "output_type": "display_data",
          "data": {
            "application/aml.mini.widget.v1": "{\"status\": \"Completed\", \"workbench_run_details_uri\": \"https://ml.azure.com/runs/AutoML_45a6f682-c1b9-45ae-960e-9ae2d9c5a3ff?wsid=/subscriptions/23529470-ba17-4d8a-9f0c-064e63a49c33/resourcegroups/rg-gai1-f4xzq/workspaces/mlw-gai1-f4xzq&tid=178121b9-4c42-4e6f-8611-0350f0190053\", \"run_id\": \"AutoML_45a6f682-c1b9-45ae-960e-9ae2d9c5a3ff\", \"run_properties\": {\"run_id\": \"AutoML_45a6f682-c1b9-45ae-960e-9ae2d9c5a3ff\", \"created_utc\": \"2023-02-19T08:09:29.260663Z\", \"properties\": {\"num_iterations\": \"5\", \"training_type\": \"TrainFull\", \"acquisition_function\": \"EI\", \"primary_metric\": \"AUC_weighted\", \"train_split\": \"0\", \"acquisition_parameter\": \"0\", \"num_cross_validation\": \"5\", \"target\": \"aml-compute-cpu\", \"AMLSettingsJsonString\": \"{\\\"path\\\":null,\\\"name\\\":\\\"COVID19_Classification\\\",\\\"subscription_id\\\":\\\"23529470-ba17-4d8a-9f0c-064e63a49c33\\\",\\\"resource_group\\\":\\\"rg-gai1-f4xzq\\\",\\\"workspace_name\\\":\\\"mlw-gai1-f4xzq\\\",\\\"region\\\":\\\"westeurope\\\",\\\"compute_target\\\":\\\"aml-compute-cpu\\\",\\\"spark_service\\\":null,\\\"azure_service\\\":\\\"remote\\\",\\\"many_models\\\":false,\\\"pipeline_fetch_max_batch_size\\\":1,\\\"enable_batch_run\\\":true,\\\"enable_parallel_run\\\":false,\\\"num_procs\\\":null,\\\"enable_run_restructure\\\":false,\\\"start_auxiliary_runs_before_parent_complete\\\":false,\\\"enable_code_generation\\\":true,\\\"iterations\\\":5,\\\"primary_metric\\\":\\\"AUC_weighted\\\",\\\"task_type\\\":\\\"classification\\\",\\\"positive_label\\\":null,\\\"data_script\\\":null,\\\"test_size\\\":0.0,\\\"test_include_predictions_only\\\":false,\\\"validation_size\\\":0.0,\\\"n_cross_validations\\\":5,\\\"y_min\\\":null,\\\"y_max\\\":null,\\\"num_classes\\\":null,\\\"featurization\\\":\\\"auto\\\",\\\"_ignore_package_version_incompatibilities\\\":false,\\\"is_timeseries\\\":false,\\\"max_cores_per_iteration\\\":1,\\\"max_concurrent_iterations\\\":1,\\\"iteration_timeout_minutes\\\":3,\\\"mem_in_mb\\\":null,\\\"enforce_time_on_windows\\\":false,\\\"experiment_timeout_minutes\\\":15,\\\"experiment_exit_score\\\":null,\\\"partition_column_names\\\":null,\\\"whitelist_models\\\":null,\\\"blacklist_algos\\\":[\\\"TensorFlowLinearClassifier\\\",\\\"TensorFlowDNN\\\"],\\\"supported_models\\\":[\\\"SVM\\\",\\\"LinearSVM\\\",\\\"TensorFlowDNN\\\",\\\"XGBoostClassifier\\\",\\\"KNN\\\",\\\"ExtremeRandomTrees\\\",\\\"SGD\\\",\\\"TensorFlowLinearClassifier\\\",\\\"MultinomialNaiveBayes\\\",\\\"DecisionTree\\\",\\\"GradientBoosting\\\",\\\"BernoulliNaiveBayes\\\",\\\"TabnetClassifier\\\",\\\"RandomForest\\\",\\\"LightGBM\\\",\\\"LogisticRegression\\\",\\\"AveragedPerceptronClassifier\\\"],\\\"private_models\\\":[],\\\"auto_blacklist\\\":true,\\\"blacklist_samples_reached\\\":false,\\\"exclude_nan_labels\\\":true,\\\"verbosity\\\":20,\\\"_debug_log\\\":\\\"azureml_automl.log\\\",\\\"show_warnings\\\":false,\\\"model_explainability\\\":true,\\\"service_url\\\":null,\\\"sdk_url\\\":null,\\\"sdk_packages\\\":null,\\\"enable_onnx_compatible_models\\\":false,\\\"enable_split_onnx_featurizer_estimator_models\\\":false,\\\"vm_type\\\":\\\"STANDARD_DS3_V2\\\",\\\"telemetry_verbosity\\\":20,\\\"send_telemetry\\\":true,\\\"enable_dnn\\\":false,\\\"scenario\\\":\\\"AutoML\\\",\\\"environment_label\\\":null,\\\"save_mlflow\\\":false,\\\"enable_categorical_indicators\\\":false,\\\"force_text_dnn\\\":false,\\\"enable_feature_sweeping\\\":true,\\\"enable_early_stopping\\\":true,\\\"early_stopping_n_iters\\\":10,\\\"arguments\\\":null,\\\"dataset_id\\\":\\\"60ed981e-dec9-453d-a253-8b0b9d3cad98\\\",\\\"hyperdrive_config\\\":null,\\\"validation_dataset_id\\\":null,\\\"run_source\\\":null,\\\"metrics\\\":null,\\\"enable_metric_confidence\\\":false,\\\"enable_ensembling\\\":true,\\\"enable_stack_ensembling\\\":true,\\\"ensemble_iterations\\\":5,\\\"enable_tf\\\":false,\\\"enable_subsampling\\\":false,\\\"subsample_seed\\\":null,\\\"enable_nimbusml\\\":false,\\\"enable_streaming\\\":false,\\\"force_streaming\\\":false,\\\"track_child_runs\\\":true,\\\"n_best_runs\\\":1,\\\"allowed_private_models\\\":[],\\\"label_column_name\\\":\\\"cluster\\\",\\\"weight_column_name\\\":null,\\\"cv_split_column_names\\\":null,\\\"enable_local_managed\\\":false,\\\"_local_managed_run_id\\\":null,\\\"cost_mode\\\":1,\\\"lag_length\\\":0,\\\"metric_operation\\\":\\\"maximize\\\",\\\"preprocess\\\":true}\", \"DataPrepJsonString\": \"{\\\\\\\"training_data\\\\\\\": {\\\\\\\"datasetId\\\\\\\": \\\\\\\"60ed981e-dec9-453d-a253-8b0b9d3cad98\\\\\\\"}, \\\\\\\"datasets\\\\\\\": 0}\", \"EnableSubsampling\": \"False\", \"runTemplate\": \"AutoML\", \"azureml.runsource\": \"automl\", \"display_task_type\": \"classification\", \"dependencies_versions\": \"{\\\"azureml-widgets\\\": \\\"1.48.0\\\", \\\"azureml-training-tabular\\\": \\\"1.48.0\\\", \\\"azureml-train\\\": \\\"1.48.0\\\", \\\"azureml-train-restclients-hyperdrive\\\": \\\"1.48.0\\\", \\\"azureml-train-core\\\": \\\"1.48.0\\\", \\\"azureml-train-automl\\\": \\\"1.48.0\\\", \\\"azureml-train-automl-runtime\\\": \\\"1.48.0\\\", \\\"azureml-train-automl-client\\\": \\\"1.48.0\\\", \\\"azureml-tensorboard\\\": \\\"1.48.0\\\", \\\"azureml-telemetry\\\": \\\"1.48.0\\\", \\\"azureml-sdk\\\": \\\"1.48.0\\\", \\\"azureml-samples\\\": \\\"0+unknown\\\", \\\"azureml-responsibleai\\\": \\\"1.48.0\\\", \\\"azureml-pipeline\\\": \\\"1.48.0\\\", \\\"azureml-pipeline-steps\\\": \\\"1.48.0\\\", \\\"azureml-pipeline-core\\\": \\\"1.48.0\\\", \\\"azureml-opendatasets\\\": \\\"1.48.0\\\", \\\"azureml-mlflow\\\": \\\"1.48.0\\\", \\\"azureml-interpret\\\": \\\"1.48.0\\\", \\\"azureml-inference-server-http\\\": \\\"0.7.7\\\", \\\"azureml-explain-model\\\": \\\"1.48.0\\\", \\\"azureml-defaults\\\": \\\"1.48.0\\\", \\\"azureml-dataset-runtime\\\": \\\"1.48.0\\\", \\\"azureml-dataprep\\\": \\\"4.8.3\\\", \\\"azureml-dataprep-rslex\\\": \\\"2.15.1\\\", \\\"azureml-dataprep-native\\\": \\\"38.0.0\\\", \\\"azureml-datadrift\\\": \\\"1.48.0\\\", \\\"azureml-core\\\": \\\"1.48.0\\\", \\\"azureml-contrib-services\\\": \\\"1.48.0\\\", \\\"azureml-contrib-server\\\": \\\"1.48.0\\\", \\\"azureml-contrib-reinforcementlearning\\\": \\\"1.48.0\\\", \\\"azureml-contrib-pipeline-steps\\\": \\\"1.48.0\\\", \\\"azureml-contrib-notebook\\\": \\\"1.48.0\\\", \\\"azureml-contrib-fairness\\\": \\\"1.48.0\\\", \\\"azureml-contrib-dataset\\\": \\\"1.48.0\\\", \\\"azureml-contrib-automl-pipeline-steps\\\": \\\"1.48.0\\\", \\\"azureml-cli-common\\\": \\\"1.48.0\\\", \\\"azureml-automl-runtime\\\": \\\"1.48.0.post1\\\", \\\"azureml-automl-dnn-nlp\\\": \\\"1.48.0\\\", \\\"azureml-automl-core\\\": \\\"1.48.0\\\", \\\"azureml-accel-models\\\": \\\"1.48.0\\\"}\", \"_aml_system_scenario_identification\": \"Remote.Parent\", \"ClientType\": \"SDK\", \"environment_cpu_name\": \"AzureML-AutoML\", \"environment_cpu_label\": \"nimbus-deprecation\", \"environment_gpu_name\": \"AzureML-AutoML-GPU\", \"environment_gpu_label\": \"prod\", \"root_attribution\": \"automl\", \"attribution\": \"AutoML\", \"Orchestrator\": \"AutoML\", \"CancelUri\": \"https://westeurope.api.azureml.ms/jasmine/v1.0/subscriptions/23529470-ba17-4d8a-9f0c-064e63a49c33/resourceGroups/rg-gai1-f4xzq/providers/Microsoft.MachineLearningServices/workspaces/mlw-gai1-f4xzq/experimentids/02855400-fded-41b8-8361-b9151c790a6a/cancel/AutoML_45a6f682-c1b9-45ae-960e-9ae2d9c5a3ff\", \"ClientSdkVersion\": \"1.48.0.post1\", \"snapshotId\": \"00000000-0000-0000-0000-000000000000\", \"SetupRunId\": \"AutoML_45a6f682-c1b9-45ae-960e-9ae2d9c5a3ff_setup\", \"SetupRunContainerId\": \"dcid.AutoML_45a6f682-c1b9-45ae-960e-9ae2d9c5a3ff_setup\", \"FeaturizationRunJsonPath\": \"featurizer_container.json\", \"FeaturizationRunId\": \"AutoML_45a6f682-c1b9-45ae-960e-9ae2d9c5a3ff_featurize\", \"ProblemInfoJsonString\": \"{\\\"dataset_num_categorical\\\": 0, \\\"is_sparse\\\": false, \\\"subsampling\\\": false, \\\"has_extra_col\\\": true, \\\"dataset_classes\\\": 10, \\\"dataset_features\\\": 128, \\\"dataset_samples\\\": 400, \\\"single_frequency_class_detected\\\": true}\", \"ModelExplainRunId\": \"AutoML_45a6f682-c1b9-45ae-960e-9ae2d9c5a3ff_ModelExplain\"}, \"tags\": {\"model_explain_run\": \"best_run\", \"_aml_system_automl_run_workspace_id\": \"61f81d49-eaa9-4067-8474-26fa2de3b45d\", \"_aml_system_azureml.automlComponent\": \"AutoML\", \"pipeline_id_000\": \"5dfac790c5c209f98a1da2dc1c7fb76f0397324f;c7af0367625be6ac5c2fecbfc72ed444cb7a2111;51ae05309834b29f71340af1008fc94fbd8213f4;__AutoML_Ensemble__;__AutoML_Stack_Ensemble__\", \"score\": \"\", \"predicted_cost\": \"\", \"fit_time\": \"\", \"training_percent\": \"\", \"iteration\": \"\", \"run_preprocessor\": \"\", \"run_algorithm\": \"\", \"automl_best_child_run_id\": \"AutoML_45a6f682-c1b9-45ae-960e-9ae2d9c5a3ff_3\", \"model_explain_best_run_child_id\": \"AutoML_45a6f682-c1b9-45ae-960e-9ae2d9c5a3ff_3\"}, \"end_time_utc\": \"2023-02-19T08:14:56.181833Z\", \"status\": \"Completed\", \"log_files\": {}, \"log_groups\": [], \"run_duration\": \"0:05:26\", \"run_number\": \"1676794169\", \"run_queued_details\": {\"status\": \"Completed\", \"details\": null}}, \"child_runs\": [{\"run_id\": \"AutoML_45a6f682-c1b9-45ae-960e-9ae2d9c5a3ff_setup\", \"run_number\": 1676794182, \"metric\": null, \"status\": \"Completed\", \"run_type\": \"azureml.scriptrun\", \"training_percent\": null, \"start_time\": \"2023-02-19T08:09:57.481357Z\", \"end_time\": \"2023-02-19T08:11:05.329011Z\", \"created_time\": \"2023-02-19T08:09:42.060844Z\", \"created_time_dt\": \"2023-02-19T08:09:42.060844Z\", \"duration\": \"0:01:23\", \"iteration\": null, \"goal\": null, \"run_name\": \"Completed\", \"run_properties\": null}, {\"run_id\": \"AutoML_45a6f682-c1b9-45ae-960e-9ae2d9c5a3ff_featurize\", \"run_number\": 1676794265, \"metric\": null, \"status\": \"Completed\", \"run_type\": \"automl.featurization\", \"training_percent\": null, \"start_time\": \"2023-02-19T08:11:05.989094Z\", \"end_time\": \"2023-02-19T08:11:47.565791Z\", \"created_time\": \"2023-02-19T08:11:05.703524Z\", \"created_time_dt\": \"2023-02-19T08:11:05.703524Z\", \"duration\": \"0:00:41\", \"iteration\": null, \"goal\": null, \"run_name\": \"Completed\", \"run_properties\": null}, {\"run_id\": \"AutoML_45a6f682-c1b9-45ae-960e-9ae2d9c5a3ff_0\", \"run_number\": 1676794308, \"metric\": null, \"status\": \"Completed\", \"run_type\": null, \"training_percent\": \"100\", \"start_time\": \"2023-02-19T08:12:04.627888Z\", \"end_time\": \"2023-02-19T08:12:37.307404Z\", \"created_time\": \"2023-02-19T08:11:48.432399Z\", \"created_time_dt\": \"2023-02-19T08:11:48.432399Z\", \"duration\": \"0:00:48\", \"iteration\": \"0\", \"goal\": \"AUC_weighted_max\", \"run_name\": \"MaxAbsScaler, LightGBM\", \"run_properties\": \"copy=True\", \"primary_metric\": 0.95816501, \"best_metric\": 0.95816501}, {\"run_id\": \"AutoML_45a6f682-c1b9-45ae-960e-9ae2d9c5a3ff_worker_0\", \"run_number\": 1676794309, \"metric\": null, \"status\": \"Completed\", \"run_type\": \"azureml.scriptrun\", \"training_percent\": null, \"start_time\": \"2023-02-19T08:11:57.034313Z\", \"end_time\": \"2023-02-19T08:13:30.488897Z\", \"created_time\": \"2023-02-19T08:11:49.689291Z\", \"created_time_dt\": \"2023-02-19T08:11:49.689291Z\", \"duration\": \"0:01:40\", \"iteration\": null, \"goal\": null, \"run_name\": \"Completed\", \"run_properties\": null}, {\"run_id\": \"AutoML_45a6f682-c1b9-45ae-960e-9ae2d9c5a3ff_3\", \"run_number\": 1676794403, \"metric\": null, \"status\": \"Completed\", \"run_type\": \"azureml.scriptrun\", \"training_percent\": \"100\", \"start_time\": \"2023-02-19T08:13:33.933042Z\", \"end_time\": \"2023-02-19T08:14:05.434556Z\", \"created_time\": \"2023-02-19T08:13:23.15461Z\", \"created_time_dt\": \"2023-02-19T08:13:23.15461Z\", \"duration\": \"0:00:42\", \"iteration\": \"3\", \"goal\": \"AUC_weighted_max\", \"run_name\": \"VotingEnsemble\", \"run_properties\": \"classification_labels=numpy.array([0, 1, 2, 3, 4, 5, 6, 7, 8, 9]\", \"primary_metric\": 0.95943352, \"best_metric\": 0.95943352}, {\"run_id\": \"AutoML_45a6f682-c1b9-45ae-960e-9ae2d9c5a3ff_4\", \"run_number\": 1676794446, \"metric\": null, \"status\": \"Completed\", \"run_type\": \"azureml.scriptrun\", \"training_percent\": \"100\", \"start_time\": \"2023-02-19T08:14:13.171655Z\", \"end_time\": \"2023-02-19T08:14:55.002323Z\", \"created_time\": \"2023-02-19T08:14:06.122914Z\", \"created_time_dt\": \"2023-02-19T08:14:06.122914Z\", \"duration\": \"0:00:48\", \"iteration\": \"4\", \"goal\": \"AUC_weighted_max\", \"run_name\": \"StackEnsemble\", \"run_properties\": \"base_learners=[('0', Pipeline(memory=None, steps=[('maxabsscaler', MaxAbsScaler(copy=True\", \"primary_metric\": 0.9390734, \"best_metric\": 0.95943352}], \"children_metrics\": {\"categories\": [0], \"series\": {\"average_precision_score_micro\": [{\"categories\": [\"0\", \"3\", \"4\"], \"mode\": \"markers\", \"name\": \"average_precision_score_micro\", \"stepped\": false, \"type\": \"scatter\", \"data\": [0.8591234960897298, 0.8651304949353766, 0.8292525066521657]}, {\"categories\": [\"0\", \"3\", \"4\"], \"mode\": \"lines\", \"name\": \"average_precision_score_micro_max\", \"stepped\": true, \"type\": \"scatter\", \"data\": [0.8591234960897298, 0.8651304949353766, 0.8651304949353766]}], \"average_precision_score_weighted\": [{\"categories\": [\"0\", \"3\", \"4\"], \"mode\": \"markers\", \"name\": \"average_precision_score_weighted\", \"stepped\": false, \"type\": \"scatter\", \"data\": [0.8677624157617414, 0.8717559452072322, 0.8515302857729157]}, {\"categories\": [\"0\", \"3\", \"4\"], \"mode\": \"lines\", \"name\": \"average_precision_score_weighted_max\", \"stepped\": true, \"type\": \"scatter\", \"data\": [0.8677624157617414, 0.8717559452072322, 0.8717559452072322]}], \"AUC_macro\": [{\"categories\": [\"0\", \"3\", \"4\"], \"mode\": \"markers\", \"name\": \"AUC_macro\", \"stepped\": false, \"type\": \"scatter\", \"data\": [0.9257836468209175, 0.9209915323609182, 0.8800157296049905]}, {\"categories\": [\"0\", \"3\", \"4\"], \"mode\": \"lines\", \"name\": \"AUC_macro_max\", \"stepped\": true, \"type\": \"scatter\", \"data\": [0.9257836468209175, 0.9257836468209175, 0.9257836468209175]}], \"f1_score_weighted\": [{\"categories\": [\"0\", \"3\", \"4\"], \"mode\": \"markers\", \"name\": \"f1_score_weighted\", \"stepped\": false, \"type\": \"scatter\", \"data\": [0.76957246110928, 0.7688147568815389, 0.7444479003820511]}, {\"categories\": [\"0\", \"3\", \"4\"], \"mode\": \"lines\", \"name\": \"f1_score_weighted_max\", \"stepped\": true, \"type\": \"scatter\", \"data\": [0.76957246110928, 0.76957246110928, 0.76957246110928]}], \"average_precision_score_macro\": [{\"categories\": [\"0\", \"3\", \"4\"], \"mode\": \"markers\", \"name\": \"average_precision_score_macro\", \"stepped\": false, \"type\": \"scatter\", \"data\": [0.7430680135989842, 0.7428368149925746, 0.7184333539922758]}, {\"categories\": [\"0\", \"3\", \"4\"], \"mode\": \"lines\", \"name\": \"average_precision_score_macro_max\", \"stepped\": true, \"type\": \"scatter\", \"data\": [0.7430680135989842, 0.7430680135989842, 0.7430680135989842]}], \"norm_macro_recall\": [{\"categories\": [\"0\", \"3\", \"4\"], \"mode\": \"markers\", \"name\": \"norm_macro_recall\", \"stepped\": false, \"type\": \"scatter\", \"data\": [0.5653060470346999, 0.5642266819553348, 0.5478844131130659]}, {\"categories\": [\"0\", \"3\", \"4\"], \"mode\": \"lines\", \"name\": \"norm_macro_recall_max\", \"stepped\": true, \"type\": \"scatter\", \"data\": [0.5653060470346999, 0.5653060470346999, 0.5653060470346999]}], \"recall_score_macro\": [{\"categories\": [\"0\", \"3\", \"4\"], \"mode\": \"markers\", \"name\": \"recall_score_macro\", \"stepped\": false, \"type\": \"scatter\", \"data\": [0.6251641810219338, 0.6243123291700818, 0.6102291900869429]}, {\"categories\": [\"0\", \"3\", \"4\"], \"mode\": \"lines\", \"name\": \"recall_score_macro_max\", \"stepped\": true, \"type\": \"scatter\", \"data\": [0.6251641810219338, 0.6251641810219338, 0.6251641810219338]}], \"AUC_weighted\": [{\"categories\": [\"0\", \"3\", \"4\"], \"mode\": \"markers\", \"name\": \"AUC_weighted\", \"stepped\": false, \"type\": \"scatter\", \"data\": [0.9581650139536467, 0.9594335209965259, 0.939073397381509]}, {\"categories\": [\"0\", \"3\", \"4\"], \"mode\": \"lines\", \"name\": \"AUC_weighted_max\", \"stepped\": true, \"type\": \"scatter\", \"data\": [0.9581650139536467, 0.9594335209965259, 0.9594335209965259]}], \"matthews_correlation\": [{\"categories\": [\"0\", \"3\", \"4\"], \"mode\": \"markers\", \"name\": \"matthews_correlation\", \"stepped\": false, \"type\": \"scatter\", \"data\": [0.7208376294267631, 0.7209685320384861, 0.6920759563368218]}, {\"categories\": [\"0\", \"3\", \"4\"], \"mode\": \"lines\", \"name\": \"matthews_correlation_max\", \"stepped\": true, \"type\": \"scatter\", \"data\": [0.7208376294267631, 0.7209685320384861, 0.7209685320384861]}], \"precision_score_weighted\": [{\"categories\": [\"0\", \"3\", \"4\"], \"mode\": \"markers\", \"name\": \"precision_score_weighted\", \"stepped\": false, \"type\": \"scatter\", \"data\": [0.7776752811210047, 0.7787275942889129, 0.7559086166969231]}, {\"categories\": [\"0\", \"3\", \"4\"], \"mode\": \"lines\", \"name\": \"precision_score_weighted_max\", \"stepped\": true, \"type\": \"scatter\", \"data\": [0.7776752811210047, 0.7787275942889129, 0.7787275942889129]}], \"recall_score_micro\": [{\"categories\": [\"0\", \"3\", \"4\"], \"mode\": \"markers\", \"name\": \"recall_score_micro\", \"stepped\": false, \"type\": \"scatter\", \"data\": [0.7849999999999999, 0.7849999999999999, 0.7625]}, {\"categories\": [\"0\", \"3\", \"4\"], \"mode\": \"lines\", \"name\": \"recall_score_micro_max\", \"stepped\": true, \"type\": \"scatter\", \"data\": [0.7849999999999999, 0.7849999999999999, 0.7849999999999999]}], \"log_loss\": [{\"categories\": [\"0\", \"3\", \"4\"], \"mode\": \"markers\", \"name\": \"log_loss\", \"stepped\": false, \"type\": \"scatter\", \"data\": [1.019226168384894, 0.9287717440695733, 1.0339382695602055]}, {\"categories\": [\"0\", \"3\", \"4\"], \"mode\": \"lines\", \"name\": \"log_loss_min\", \"stepped\": true, \"type\": \"scatter\", \"data\": [1.019226168384894, 0.9287717440695733, 0.9287717440695733]}], \"f1_score_macro\": [{\"categories\": [\"0\", \"3\", \"4\"], \"mode\": \"markers\", \"name\": \"f1_score_macro\", \"stepped\": false, \"type\": \"scatter\", \"data\": [0.6371552430611398, 0.6367180789866655, 0.6111461626067314]}, {\"categories\": [\"0\", \"3\", \"4\"], \"mode\": \"lines\", \"name\": \"f1_score_macro_max\", \"stepped\": true, \"type\": \"scatter\", \"data\": [0.6371552430611398, 0.6371552430611398, 0.6371552430611398]}], \"recall_score_weighted\": [{\"categories\": [\"0\", \"3\", \"4\"], \"mode\": \"markers\", \"name\": \"recall_score_weighted\", \"stepped\": false, \"type\": \"scatter\", \"data\": [0.7849999999999999, 0.7849999999999999, 0.7625]}, {\"categories\": [\"0\", \"3\", \"4\"], \"mode\": \"lines\", \"name\": \"recall_score_weighted_max\", \"stepped\": true, \"type\": \"scatter\", \"data\": [0.7849999999999999, 0.7849999999999999, 0.7849999999999999]}], \"f1_score_micro\": [{\"categories\": [\"0\", \"3\", \"4\"], \"mode\": \"markers\", \"name\": \"f1_score_micro\", \"stepped\": false, \"type\": \"scatter\", \"data\": [0.7849999999999999, 0.7849999999999999, 0.7625000000000001]}, {\"categories\": [\"0\", \"3\", \"4\"], \"mode\": \"lines\", \"name\": \"f1_score_micro_max\", \"stepped\": true, \"type\": \"scatter\", \"data\": [0.7849999999999999, 0.7849999999999999, 0.7849999999999999]}], \"precision_score_micro\": [{\"categories\": [\"0\", \"3\", \"4\"], \"mode\": \"markers\", \"name\": \"precision_score_micro\", \"stepped\": false, \"type\": \"scatter\", \"data\": [0.7849999999999999, 0.7849999999999999, 0.7625]}, {\"categories\": [\"0\", \"3\", \"4\"], \"mode\": \"lines\", \"name\": \"precision_score_micro_max\", \"stepped\": true, \"type\": \"scatter\", \"data\": [0.7849999999999999, 0.7849999999999999, 0.7849999999999999]}], \"AUC_micro\": [{\"categories\": [\"0\", \"3\", \"4\"], \"mode\": \"markers\", \"name\": \"AUC_micro\", \"stepped\": false, \"type\": \"scatter\", \"data\": [0.9700225694444444, 0.9694878472222224, 0.9533906249999999]}, {\"categories\": [\"0\", \"3\", \"4\"], \"mode\": \"lines\", \"name\": \"AUC_micro_max\", \"stepped\": true, \"type\": \"scatter\", \"data\": [0.9700225694444444, 0.9700225694444444, 0.9700225694444444]}], \"accuracy\": [{\"categories\": [\"0\", \"3\", \"4\"], \"mode\": \"markers\", \"name\": \"accuracy\", \"stepped\": false, \"type\": \"scatter\", \"data\": [0.7849999999999999, 0.7849999999999999, 0.7625]}, {\"categories\": [\"0\", \"3\", \"4\"], \"mode\": \"lines\", \"name\": \"accuracy_max\", \"stepped\": true, \"type\": \"scatter\", \"data\": [0.7849999999999999, 0.7849999999999999, 0.7849999999999999]}], \"balanced_accuracy\": [{\"categories\": [\"0\", \"3\", \"4\"], \"mode\": \"markers\", \"name\": \"balanced_accuracy\", \"stepped\": false, \"type\": \"scatter\", \"data\": [0.6251641810219338, 0.6243123291700818, 0.6102291900869429]}, {\"categories\": [\"0\", \"3\", \"4\"], \"mode\": \"lines\", \"name\": \"balanced_accuracy_max\", \"stepped\": true, \"type\": \"scatter\", \"data\": [0.6251641810219338, 0.6251641810219338, 0.6251641810219338]}], \"weighted_accuracy\": [{\"categories\": [\"0\", \"3\", \"4\"], \"mode\": \"markers\", \"name\": \"weighted_accuracy\", \"stepped\": false, \"type\": \"scatter\", \"data\": [0.8628625428212006, 0.864838363327906, 0.8407839619811852]}, {\"categories\": [\"0\", \"3\", \"4\"], \"mode\": \"lines\", \"name\": \"weighted_accuracy_max\", \"stepped\": true, \"type\": \"scatter\", \"data\": [0.8628625428212006, 0.864838363327906, 0.864838363327906]}], \"precision_score_macro\": [{\"categories\": [\"0\", \"3\", \"4\"], \"mode\": \"markers\", \"name\": \"precision_score_macro\", \"stepped\": false, \"type\": \"scatter\", \"data\": [0.6749204980783927, 0.6768510834528907, 0.643327541399964]}, {\"categories\": [\"0\", \"3\", \"4\"], \"mode\": \"lines\", \"name\": \"precision_score_macro_max\", \"stepped\": true, \"type\": \"scatter\", \"data\": [0.6749204980783927, 0.6768510834528907, 0.6768510834528907]}]}, \"metricName\": null, \"primaryMetricName\": \"AUC_weighted\", \"showLegend\": false}, \"run_metrics\": [{\"name\": \"experiment_status\", \"run_id\": \"AutoML_45a6f682-c1b9-45ae-960e-9ae2d9c5a3ff\", \"categories\": [0, 1, 2, 3, 4, 5, 6, 7, 8, 9, 10, 11, 12, 13, 14], \"series\": [{\"data\": [\"DatasetEvaluation\", \"FeaturesGeneration\", \"DatasetFeaturization\", \"DatasetFeaturizationCompleted\", \"DatasetBalancing\", \"DatasetCrossValidationSplit\", \"ModelSelection\", \"BestRunExplainModel\", \"ModelExplanationDataSetSetup\", \"PickSurrogateModel\", \"EngineeredFeatureExplanations\", \"EngineeredFeatureExplanations\", \"RawFeaturesExplanations\", \"RawFeaturesExplanations\", \"BestRunExplainModel\"]}]}, {\"name\": \"experiment_status_description\", \"run_id\": \"AutoML_45a6f682-c1b9-45ae-960e-9ae2d9c5a3ff\", \"categories\": [0, 1, 2, 3, 4, 5, 6, 7, 8, 9, 10, 11, 12, 13, 14], \"series\": [{\"data\": [\"Gathering dataset statistics.\", \"Generating features for the dataset.\", \"Beginning to fit featurizers and featurize the dataset.\", \"Completed fit featurizers and featurizing the dataset.\", \"Performing class balancing sweeping\", \"Generating individually featurized CV splits.\", \"Beginning model selection.\", \"Best run model explanations started\", \"Model explanations data setup completed\", \"Choosing LightGBM as the surrogate model for explanations\", \"Computation of engineered features started\", \"Computation of engineered features completed\", \"Computation of raw features started\", \"Computation of raw features completed\", \"Best run model explanations completed\"]}]}, {\"name\": \"AUC_macro\", \"run_id\": \"AutoML_45a6f682-c1b9-45ae-960e-9ae2d9c5a3ff\", \"categories\": [0], \"series\": [{\"data\": [0.9209915323609182]}]}, {\"name\": \"f1_score_micro\", \"run_id\": \"AutoML_45a6f682-c1b9-45ae-960e-9ae2d9c5a3ff\", \"categories\": [0], \"series\": [{\"data\": [0.7849999999999999]}]}, {\"name\": \"average_precision_score_weighted\", \"run_id\": \"AutoML_45a6f682-c1b9-45ae-960e-9ae2d9c5a3ff\", \"categories\": [0], \"series\": [{\"data\": [0.8717559452072322]}]}, {\"name\": \"recall_score_macro\", \"run_id\": \"AutoML_45a6f682-c1b9-45ae-960e-9ae2d9c5a3ff\", \"categories\": [0], \"series\": [{\"data\": [0.6243123291700818]}]}, {\"name\": \"f1_score_macro\", \"run_id\": \"AutoML_45a6f682-c1b9-45ae-960e-9ae2d9c5a3ff\", \"categories\": [0], \"series\": [{\"data\": [0.6367180789866655]}]}, {\"name\": \"f1_score_weighted\", \"run_id\": \"AutoML_45a6f682-c1b9-45ae-960e-9ae2d9c5a3ff\", \"categories\": [0], \"series\": [{\"data\": [0.7688147568815389]}]}, {\"name\": \"matthews_correlation\", \"run_id\": \"AutoML_45a6f682-c1b9-45ae-960e-9ae2d9c5a3ff\", \"categories\": [0], \"series\": [{\"data\": [0.7209685320384861]}]}, {\"name\": \"log_loss\", \"run_id\": \"AutoML_45a6f682-c1b9-45ae-960e-9ae2d9c5a3ff\", \"categories\": [0], \"series\": [{\"data\": [0.9287717440695733]}]}, {\"name\": \"AUC_weighted\", \"run_id\": \"AutoML_45a6f682-c1b9-45ae-960e-9ae2d9c5a3ff\", \"categories\": [0], \"series\": [{\"data\": [0.9594335209965259]}]}, {\"name\": \"norm_macro_recall\", \"run_id\": \"AutoML_45a6f682-c1b9-45ae-960e-9ae2d9c5a3ff\", \"categories\": [0], \"series\": [{\"data\": [0.5642266819553348]}]}, {\"name\": \"recall_score_micro\", \"run_id\": \"AutoML_45a6f682-c1b9-45ae-960e-9ae2d9c5a3ff\", \"categories\": [0], \"series\": [{\"data\": [0.7849999999999999]}]}, {\"name\": \"precision_score_weighted\", \"run_id\": \"AutoML_45a6f682-c1b9-45ae-960e-9ae2d9c5a3ff\", \"categories\": [0], \"series\": [{\"data\": [0.7787275942889129]}]}, {\"name\": \"recall_score_weighted\", \"run_id\": \"AutoML_45a6f682-c1b9-45ae-960e-9ae2d9c5a3ff\", \"categories\": [0], \"series\": [{\"data\": [0.7849999999999999]}]}, {\"name\": \"AUC_micro\", \"run_id\": \"AutoML_45a6f682-c1b9-45ae-960e-9ae2d9c5a3ff\", \"categories\": [0], \"series\": [{\"data\": [0.9694878472222224]}]}, {\"name\": \"average_precision_score_macro\", \"run_id\": \"AutoML_45a6f682-c1b9-45ae-960e-9ae2d9c5a3ff\", \"categories\": [0], \"series\": [{\"data\": [0.7428368149925746]}]}, {\"name\": \"precision_score_macro\", \"run_id\": \"AutoML_45a6f682-c1b9-45ae-960e-9ae2d9c5a3ff\", \"categories\": [0], \"series\": [{\"data\": [0.6768510834528907]}]}, {\"name\": \"weighted_accuracy\", \"run_id\": \"AutoML_45a6f682-c1b9-45ae-960e-9ae2d9c5a3ff\", \"categories\": [0], \"series\": [{\"data\": [0.864838363327906]}]}, {\"name\": \"average_precision_score_micro\", \"run_id\": \"AutoML_45a6f682-c1b9-45ae-960e-9ae2d9c5a3ff\", \"categories\": [0], \"series\": [{\"data\": [0.8651304949353766]}]}, {\"name\": \"balanced_accuracy\", \"run_id\": \"AutoML_45a6f682-c1b9-45ae-960e-9ae2d9c5a3ff\", \"categories\": [0], \"series\": [{\"data\": [0.6243123291700818]}]}, {\"name\": \"precision_score_micro\", \"run_id\": \"AutoML_45a6f682-c1b9-45ae-960e-9ae2d9c5a3ff\", \"categories\": [0], \"series\": [{\"data\": [0.7849999999999999]}]}, {\"name\": \"accuracy\", \"run_id\": \"AutoML_45a6f682-c1b9-45ae-960e-9ae2d9c5a3ff\", \"categories\": [0], \"series\": [{\"data\": [0.7849999999999999]}]}], \"run_logs\": \"\\nRun is completed.\", \"graph\": {}, \"widget_settings\": {\"childWidgetDisplay\": \"popup\", \"send_telemetry\": false, \"log_level\": \"INFO\", \"sdk_version\": \"1.48.0\"}, \"loading\": false}"
          },
          "metadata": {}
        }
      ],
      "execution_count": 29,
      "metadata": {
        "gather": {
          "logged": 1676795355958
        }
      }
    }
  ],
  "metadata": {
    "kernel_info": {
      "name": "python38-azureml"
    },
    "kernelspec": {
      "name": "python38-azureml",
      "language": "python",
      "display_name": "Python 3.8 - AzureML"
    },
    "language_info": {
      "name": "python",
      "version": "3.8.10",
      "mimetype": "text/x-python",
      "codemirror_mode": {
        "name": "ipython",
        "version": 3
      },
      "pygments_lexer": "ipython3",
      "nbconvert_exporter": "python",
      "file_extension": ".py"
    },
    "nteract": {
      "version": "nteract-front-end@1.0.0"
    },
    "microsoft": {
      "ms_spell_check": {
        "ms_spell_check_language": "en"
      },
      "host": {
        "AzureML": {
          "notebookHasBeenCompleted": true
        }
      }
    }
  },
  "nbformat": 4,
  "nbformat_minor": 4
}